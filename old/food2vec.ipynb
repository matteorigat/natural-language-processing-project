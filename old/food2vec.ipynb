{
 "cells": [
  {
   "metadata": {
    "ExecuteTime": {
     "end_time": "2024-09-25T09:32:01.436300Z",
     "start_time": "2024-09-25T09:32:00.954744Z"
    }
   },
   "cell_type": "code",
   "source": [
    "from food2vec.semantic_nutrition import Estimator\n",
    "\n",
    "estimator = Estimator() \n",
    "\n",
    "# Search database for nutrition estimates\n",
    "match = estimator.natural_search(\"I ate a beef\") \n",
    "print(match)\n",
    "\n",
    "# Embed words or phrases with food content (limited to our food-related vocabulary)\n",
    "# Here, embedding1 will be equal to embedding2\n",
    "embedding1 = estimator.embed('apple')\n",
    "embedding2 = estimator.embed('I ate an apple')\n",
    "relationship = estimator.cosine(embedding1, embedding2)\n",
    "print(relationship)\n",
    "\n",
    "# See the relationship between embeddings\n",
    "embedding1 = estimator.embed('oil')\n",
    "embedding2 = estimator.embed('olive oil')\n",
    "relationship = estimator.cosine(embedding1, embedding2)\n",
    "print(relationship)\n",
    "\n",
    "\n",
    "# See the relationship between embeddings\n",
    "embedding1 = estimator.embed('spaghetti')\n",
    "embedding2 = estimator.embed('pasta')\n",
    "relationship = estimator.cosine(embedding1, embedding2)\n",
    "print(relationship)\n",
    "\n",
    "\n",
    "# See the relationship between embeddings\n",
    "embedding1 = estimator.embed('chicken')\n",
    "embedding2 = estimator.embed('beef')\n",
    "relationship = estimator.cosine(embedding1, embedding2)\n",
    "print(relationship)\n"
   ],
   "id": "59160dfa9a0efb9c",
   "outputs": [
    {
     "name": "stdout",
     "output_type": "stream",
     "text": [
      "------ALERT--------\n",
      "You're using demonstration nutrition data. This is a random subset (~100 items) from our annotated database.\n",
      "We do not have permission to distribute our full dataset, and we recommend processing your own.\n",
      "The USDA provides an excellent start: https://fdc.nal.usda.gov/\n",
      "You can suppress this warning by setting the 'demo_warning' parameter to False.\n",
      "-------------------\n",
      "{\"item_name\": \"#6 roast beef & provolone, wheat regular\", \"carbohydrates\": 71.0, \"sugar\": 10.0, \"total_fats\": 23.0, \"sat_fats\": 10.0, \"protein\": 64.0, \"fiber\": 7.0, \"calories\": 750.0, \"cholesterol\": 125.0, \"potassium\": 0.0, \"sodium\": 870.0, \"calcium\": 300.0, \"magnesium\": 40.0, \"match\": 0.7267114697357979}\n",
      "1.0\n",
      "0.7455070467322327\n",
      "0.6603321383165346\n",
      "0.5779050037372558\n"
     ]
    },
    {
     "name": "stderr",
     "output_type": "stream",
     "text": [
      "/Users/matteorigat/.pyenv/versions/3.12.1/lib/python3.12/site-packages/food2vec/semantic_nutrition.py:252: RuntimeWarning: invalid value encountered in scalar divide\n",
      "  similarity = np.dot(vA, vB) / (np.linalg.norm(vA) * np.linalg.norm(vB))\n"
     ]
    }
   ],
   "execution_count": 24
  }
 ],
 "metadata": {
  "kernelspec": {
   "display_name": "Python 3",
   "language": "python",
   "name": "python3"
  },
  "language_info": {
   "codemirror_mode": {
    "name": "ipython",
    "version": 2
   },
   "file_extension": ".py",
   "mimetype": "text/x-python",
   "name": "python",
   "nbconvert_exporter": "python",
   "pygments_lexer": "ipython2",
   "version": "2.7.6"
  }
 },
 "nbformat": 4,
 "nbformat_minor": 5
}
