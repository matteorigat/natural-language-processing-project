{
 "cells": [
  {
   "cell_type": "code",
   "id": "initial_id",
   "metadata": {
    "collapsed": true,
    "ExecuteTime": {
     "end_time": "2024-06-25T13:53:22.948498Z",
     "start_time": "2024-06-25T13:53:22.944956Z"
    }
   },
   "source": [
    "import pandas as pd\n",
    "import numpy as np\n",
    "import math\n",
    "import random\n",
    "import csv\n",
    "\n",
    "import torch\n",
    "from torch.utils.data import Dataset, DataLoader, random_split, RandomSampler, SequentialSampler\n",
    "\n",
    "from transformers import GPT2LMHeadModel,  GPT2Tokenizer, GPT2Config\n",
    "from transformers import get_linear_schedule_with_warmup\n",
    "\n",
    "import nltk\n",
    "nltk.download('punkt')\n",
    "\n",
    "from tqdm import tqdm"
   ],
   "outputs": [
    {
     "name": "stderr",
     "output_type": "stream",
     "text": [
      "[nltk_data] Downloading package punkt to\n",
      "[nltk_data]     /Users/matteorigat/nltk_data...\n",
      "[nltk_data]   Package punkt is already up-to-date!\n"
     ]
    }
   ],
   "execution_count": 46
  },
  {
   "metadata": {
    "ExecuteTime": {
     "end_time": "2024-06-25T13:53:23.013636Z",
     "start_time": "2024-06-25T13:53:23.011401Z"
    }
   },
   "cell_type": "code",
   "source": [
    "# some parameters\n",
    "epochs = 1\n",
    "learning_rate = 5e-4\n",
    "warmup_steps = 1e2\n",
    "epsilon = 1e-8\n",
    "model_name = \"gpt2\"\n",
    "\n",
    "\n",
    "# this produces sample output every 100 steps\n",
    "sample_every = 1000\n",
    "# save the model every 5000 step\n",
    "save_every = 5000\n",
    "# save the model to this file name\n",
    "save_model = \"trial_2\""
   ],
   "id": "f2849cb9a12d679d",
   "outputs": [],
   "execution_count": 47
  },
  {
   "metadata": {
    "ExecuteTime": {
     "end_time": "2024-06-25T13:53:23.038887Z",
     "start_time": "2024-06-25T13:53:23.036162Z"
    }
   },
   "cell_type": "code",
   "source": [
    "# load and also preprocess the raw data\n",
    "def load_preprocess_raw_data(raw_data):\n",
    "    recipe_instances = []\n",
    "\n",
    "    with open(raw_data, 'r', encoding='utf-8') as f:\n",
    "        reader = csv.DictReader(f)\n",
    "        for row in reader:\n",
    "            # Extract relevant fields from CSV row\n",
    "            #name = row['name'].lower().replace('\"', '')  # Remove any extra quotes\n",
    "            ingredients = row['ingredients'].lower().replace('\\'', '').replace('[', '').replace(']', '')\n",
    "            instructions = row['steps'].lower().replace('\\'', '').replace('[', '').replace(']', '')\n",
    "            \n",
    "            # Prepare recipe instance string\n",
    "            recipe_instance = '[BOS]'+ingredients+'[STEPS]'+instructions+'[EOS]' #+name+'[INGREDIENTS]'\n",
    "            \n",
    "            # Limit length to 2000 characters as per your function\n",
    "            if len(recipe_instance) <= 3000:\n",
    "                recipe_instances.append(recipe_instance)\n",
    "    \n",
    "    return recipe_instances"
   ],
   "id": "b013163b68b372",
   "outputs": [],
   "execution_count": 48
  },
  {
   "metadata": {
    "ExecuteTime": {
     "end_time": "2024-06-25T13:53:25.486689Z",
     "start_time": "2024-06-25T13:53:23.048235Z"
    }
   },
   "cell_type": "code",
   "source": [
    "# create text list for dataset\n",
    "# https://www.kaggle.com/datasets/shuyangli94/food-com-recipes-and-user-interactions/data\n",
    "recipe_list = load_preprocess_raw_data(\"dataset/RAW_recipes.csv\")\n",
    "\n",
    "reduced_recipe_list = random.sample(recipe_list, int(0.01 * len(recipe_list)))\n",
    "print(reduced_recipe_list[:1])\n",
    "\n",
    "train_list, test_list = np.split(reduced_recipe_list, [int(.8*len(reduced_recipe_list))])\n",
    "print('\\nNumber of train data: ', len(train_list))\n",
    "print('Number of test data: ', len(test_list))"
   ],
   "id": "37ab75ee5d862da2",
   "outputs": [
    {
     "name": "stdout",
     "output_type": "stream",
     "text": [
      "['[BOS]sausages, tomato ketchup, clear honey, mild chili powder, garlic cloves, dried oregano[STEPS]heat the oven to 220c / gas mark 7, arrange the sausages in a roasting tin in a single layer and bake for 10 minutes, mix together the remaining ingredients with 1 tbsp water, pour the ketchup mixture over the sausages and mix well, bake for 30 minutes , turning and basting occasionally , until the sausages are golden[EOS]']\n",
      "\n",
      "Number of train data:  1849\n",
      "Number of test data:  463\n"
     ]
    }
   ],
   "execution_count": 49
  },
  {
   "metadata": {
    "ExecuteTime": {
     "end_time": "2024-06-25T13:53:25.840340Z",
     "start_time": "2024-06-25T13:53:25.487660Z"
    }
   },
   "cell_type": "code",
   "source": [
    "# Load the GPT tokenizer.\n",
    "tokenizer = GPT2Tokenizer.from_pretrained(model_name, bos_token='[BOS]', eos_token='[EOS]', pad_token='[PAD]')\n",
    "# add special tokens for title, ingredients and instruction seperator\n",
    "special_tokens_dict = {'additional_special_tokens': ['[STEPS]']} #'[INGREDIENTS]', \n",
    "# check the number of special tokens\n",
    "num_added_toks = tokenizer.add_special_tokens(special_tokens_dict)\n",
    "print('We have added', num_added_toks, 'tokens')"
   ],
   "id": "706ce9fabdb0d94d",
   "outputs": [
    {
     "name": "stdout",
     "output_type": "stream",
     "text": [
      "We have added 1 tokens\n"
     ]
    }
   ],
   "execution_count": 50
  },
  {
   "metadata": {
    "ExecuteTime": {
     "end_time": "2024-06-25T13:53:25.845437Z",
     "start_time": "2024-06-25T13:53:25.841368Z"
    }
   },
   "cell_type": "code",
   "source": [
    "class GPT2Dataset(Dataset):\n",
    "\n",
    "  def __init__(self, txt_list, tokenizer, max_length=768):\n",
    "\n",
    "    self.tokenizer = tokenizer\n",
    "    self.input_ids = []\n",
    "    self.attn_masks = []\n",
    "\n",
    "    for txt in txt_list:\n",
    "        txt = self.custom_preprocessing(txt)\n",
    "        \n",
    "        encodings_dict = tokenizer(txt, truncation=True, max_length=max_length, padding=\"max_length\")\n",
    "    \n",
    "        self.input_ids.append(torch.tensor(encodings_dict['input_ids']))\n",
    "        self.attn_masks.append(torch.tensor(encodings_dict['attention_mask']))\n",
    "          \n",
    "  def custom_preprocessing(self, text):\n",
    "    # Example preprocessing: Lowercase the text and remove punctuation\n",
    "    text = text.lower()\n",
    "    # Add more preprocessing steps as needed\n",
    "    return text\n",
    "    \n",
    "  def __len__(self):\n",
    "    return len(self.input_ids)\n",
    "\n",
    "  def __getitem__(self, idx):\n",
    "    return self.input_ids[idx], self.attn_masks[idx] "
   ],
   "id": "8c47e16e0b206a69",
   "outputs": [],
   "execution_count": 51
  },
  {
   "metadata": {
    "ExecuteTime": {
     "end_time": "2024-06-25T13:53:26.764838Z",
     "start_time": "2024-06-25T13:53:25.846777Z"
    }
   },
   "cell_type": "code",
   "source": [
    "dataset = GPT2Dataset(train_list, tokenizer, max_length=200)\n",
    "\n",
    "# Split into training and validation sets\n",
    "train_size = int(0.8 * len(dataset))\n",
    "val_size = len(dataset) - train_size\n",
    "\n",
    "train_dataset, val_dataset = random_split(dataset, [train_size, val_size])\n",
    "\n",
    "print('{:>5,} training samples'.format(train_size))\n",
    "print('{:>5,} validation samples'.format(val_size))"
   ],
   "id": "e360975aa7958cbe",
   "outputs": [
    {
     "name": "stdout",
     "output_type": "stream",
     "text": [
      "1,479 training samples\n",
      "  370 validation samples\n"
     ]
    }
   ],
   "execution_count": 52
  },
  {
   "metadata": {
    "ExecuteTime": {
     "end_time": "2024-06-25T13:53:26.767011Z",
     "start_time": "2024-06-25T13:53:26.765479Z"
    }
   },
   "cell_type": "code",
   "source": "batch_size = 2",
   "id": "4afb73b3e4cf22e",
   "outputs": [],
   "execution_count": 53
  },
  {
   "metadata": {
    "ExecuteTime": {
     "end_time": "2024-06-25T13:53:26.769698Z",
     "start_time": "2024-06-25T13:53:26.767759Z"
    }
   },
   "cell_type": "code",
   "source": [
    "# Create the DataLoaders for our training and validation datasets.\n",
    "# We'll take training samples in random order. \n",
    "train_dataloader = DataLoader(\n",
    "            train_dataset,  # The training samples.\n",
    "            sampler = RandomSampler(train_dataset), # Select batches randomly\n",
    "            batch_size = batch_size # Trains with this batch size.\n",
    "        )\n",
    "\n",
    "# For validation the order doesn't matter, so we'll just read them sequentially.\n",
    "validation_dataloader = DataLoader(\n",
    "            val_dataset, # The validation samples.\n",
    "            sampler = SequentialSampler(val_dataset), # Pull out batches sequentially.\n",
    "            batch_size = batch_size # Evaluate with this batch size.\n",
    "        )"
   ],
   "id": "664664a1d0b96417",
   "outputs": [],
   "execution_count": 54
  },
  {
   "metadata": {
    "ExecuteTime": {
     "end_time": "2024-06-25T13:53:29.088258Z",
     "start_time": "2024-06-25T13:53:26.770254Z"
    }
   },
   "cell_type": "code",
   "source": [
    "# I'm not really doing anything with the config buheret\n",
    "configuration = GPT2Config.from_pretrained(model_name, output_hidden_states=False)\n",
    "\n",
    "# instantiate the model\n",
    "model = GPT2LMHeadModel.from_pretrained(model_name, config=configuration)\n",
    "\n",
    "# this step is necessary because I've added some tokens (bos_token, etc) to the embeddings\n",
    "# otherwise the tokenizer and model tensors won't match up\n",
    "model.resize_token_embeddings(len(tokenizer))\n",
    "\n",
    "# Tell pytorch to run this model on the GPU.\n",
    "if torch.cuda.is_available():\n",
    "    device = torch.device(\"cuda\")\n",
    "    if torch.cuda.device_count() > 1:\n",
    "        model = torch.nn.DataParallel(model)\n",
    "else:\n",
    "    device = torch.device(\"cpu\")\n",
    "    \n",
    "\n",
    "# Set the seed value all over the place to make this reproducible.\n",
    "seed_val = 42\n",
    "\n",
    "random.seed(seed_val)\n",
    "np.random.seed(seed_val)\n",
    "torch.manual_seed(seed_val)\n",
    "if device == \"cuda\":\n",
    "    torch.cuda.manual_seed_all(seed_val)"
   ],
   "id": "7834e876e04b72f0",
   "outputs": [
    {
     "name": "stderr",
     "output_type": "stream",
     "text": [
      "/Users/matteorigat/PycharmProjects/nlp-project/.venv/lib/python3.12/site-packages/huggingface_hub/file_download.py:1132: FutureWarning: `resume_download` is deprecated and will be removed in version 1.0.0. Downloads always resume when possible. If you want to force a new download, use `force_download=True`.\n",
      "  warnings.warn(\n"
     ]
    }
   ],
   "execution_count": 55
  },
  {
   "metadata": {
    "ExecuteTime": {
     "end_time": "2024-06-25T13:53:29.091378Z",
     "start_time": "2024-06-25T13:53:29.089252Z"
    }
   },
   "cell_type": "code",
   "source": [
    "# Note: AdamW is a class from the huggingface library (as opposed to pytorch) \n",
    "optimizer = torch.optim.AdamW(model.parameters(),\n",
    "                  lr = learning_rate,\n",
    "                  eps = epsilon\n",
    "                )"
   ],
   "id": "f91bed530dc8e2a5",
   "outputs": [],
   "execution_count": 56
  },
  {
   "metadata": {
    "ExecuteTime": {
     "end_time": "2024-06-25T13:53:29.205811Z",
     "start_time": "2024-06-25T13:53:29.092121Z"
    }
   },
   "cell_type": "code",
   "source": [
    "# Total number of training steps is [number of batches] x [number of epochs]. \n",
    "# (Note that this is not the same as the number of training samples).\n",
    "total_steps = len(train_dataloader) * epochs\n",
    "print('Total number of steps: ', total_steps)\n",
    "# Create the learning rate scheduler.\n",
    "# This changes the learning rate as the training loop progresses\n",
    "scheduler = get_linear_schedule_with_warmup(optimizer, \n",
    "                                            num_warmup_steps = warmup_steps, \n",
    "                                            num_training_steps = total_steps)"
   ],
   "id": "3e5bf04cbb506ff5",
   "outputs": [
    {
     "name": "stdout",
     "output_type": "stream",
     "text": [
      "Total number of steps:  740\n"
     ]
    }
   ],
   "execution_count": 57
  },
  {
   "metadata": {
    "ExecuteTime": {
     "end_time": "2024-06-25T14:07:19.171976Z",
     "start_time": "2024-06-25T13:53:29.208499Z"
    }
   },
   "cell_type": "code",
   "source": [
    "training_stats = []\n",
    "print(\"Currently using device type: \", device)\n",
    "\n",
    "model = model.to(device)\n",
    "\n",
    "for epoch_i in range(0, epochs):\n",
    "\n",
    "    # ========================================\n",
    "    #               Training\n",
    "    # ========================================\n",
    "\n",
    "    print(\"\")\n",
    "    print('======== Epoch {:} / {:} ========'.format(epoch_i + 1, epochs))\n",
    "    print('Training...')\n",
    "\n",
    "    losses = []\n",
    "\n",
    "    total_train_loss = 0\n",
    "\n",
    "    model.train()\n",
    "    \n",
    "    loop = tqdm(train_dataloader, leave=True)\n",
    "    for step, batch in enumerate(loop):\n",
    "\n",
    "        b_input_ids = batch[0].to(device)\n",
    "        b_labels = batch[0].to(device)\n",
    "        b_masks = batch[1].to(device)\n",
    "\n",
    "        model.zero_grad()        \n",
    "\n",
    "        outputs = model(  b_input_ids,\n",
    "                          labels=b_labels, \n",
    "                          attention_mask =b_masks,\n",
    "                          token_type_ids=None\n",
    "                        )\n",
    "\n",
    "        loss = outputs[0]  \n",
    "\n",
    "        batch_loss = loss.item()\n",
    "        total_train_loss += batch_loss\n",
    "        losses.append(batch_loss)\n",
    "\n",
    "        # Get sample every x batches.\n",
    "        if step % sample_every == 0 and not step == 0:\n",
    "            print('Batch {:>5,}  of  {:>5,}. Loss: {:>5,}.'.format(step, len(train_dataloader), batch_loss))\n",
    "\n",
    "        loss.backward()\n",
    "\n",
    "        optimizer.step()\n",
    "\n",
    "        scheduler.step()\n",
    "\n",
    "        if step % save_every == 0:\n",
    "            model.save_pretrained(save_model)\n",
    "            \n",
    "        loop.set_postfix(loss=batch_loss)\n",
    "\n",
    "    # Calculate the average loss over all of the batches.\n",
    "    avg_train_loss = total_train_loss / len(train_dataloader)       \n",
    "    \n",
    "    # Calculate perplexity.\n",
    "    losses = torch.tensor(losses)\n",
    "    train_perplexity = math.exp(torch.mean(losses))\n",
    "\n",
    "    print(\"\")\n",
    "    print(\"  Average training loss: {0:.2f}\".format(avg_train_loss))\n",
    "    print(\"  Perplexity: {0:.2f}\".format(train_perplexity))        \n",
    "    # ========================================\n",
    "    #               Validation\n",
    "    # ========================================\n",
    "\n",
    "    print(\"\")\n",
    "    print(\"Running Validation...\")\n",
    "\n",
    "    model.eval()\n",
    "\n",
    "    losses = []\n",
    "    total_eval_loss = 0\n",
    "    nb_eval_steps = 0\n",
    "\n",
    "\n",
    "    # Evaluate data for one epoch\n",
    "    for batch in validation_dataloader:\n",
    "        \n",
    "        b_input_ids = batch[0].to(device)\n",
    "        b_labels = batch[0].to(device)\n",
    "        b_masks = batch[1].to(device)\n",
    "        \n",
    "        with torch.no_grad():        \n",
    "\n",
    "            outputs  = model(b_input_ids, \n",
    "#                            token_type_ids=None, \n",
    "                             attention_mask = b_masks,\n",
    "                            labels=b_labels)\n",
    "          \n",
    "            loss = outputs[0]  \n",
    "            \n",
    "        batch_loss = loss.item()\n",
    "        losses.append(batch_loss)\n",
    "        total_eval_loss += batch_loss        \n",
    "\n",
    "    avg_val_loss = total_eval_loss / len(validation_dataloader)\n",
    "    \n",
    "    # Calculate perplexity.\n",
    "    losses = torch.tensor(losses)\n",
    "    val_perplexity = math.exp(torch.mean(losses))\n",
    "\n",
    "    print(\"  Validation Loss: {0:.2f}\".format(avg_val_loss))\n",
    "    print(\"  Validation perplexity: {0:.2f}\".format(val_perplexity))        \n",
    "\n",
    "    # Record all statistics from this epoch.\n",
    "    training_stats.append(\n",
    "        {\n",
    "            'epoch': epoch_i + 1,\n",
    "            'Training Loss': avg_train_loss,\n",
    "            'Valid. Loss': avg_val_loss,\n",
    "            'Training Perplexity': train_perplexity,\n",
    "            'Valid. Perplexity': val_perplexity,\n",
    "        }\n",
    "    )\n",
    "\n",
    "print(\"\")\n",
    "print(\"Training complete!\")"
   ],
   "id": "7fad37e004a582de",
   "outputs": [
    {
     "name": "stdout",
     "output_type": "stream",
     "text": [
      "Currently using device type:  cpu\n",
      "\n",
      "======== Epoch 1 / 1 ========\n",
      "Training...\n"
     ]
    },
    {
     "name": "stderr",
     "output_type": "stream",
     "text": [
      "100%|██████████| 740/740 [13:01<00:00,  1.06s/it, loss=1.29] \n"
     ]
    },
    {
     "name": "stdout",
     "output_type": "stream",
     "text": [
      "\n",
      "  Average training loss: 2.50\n",
      "  Perplexity: 12.14\n",
      "\n",
      "Running Validation...\n",
      "  Validation Loss: 1.63\n",
      "  Validation perplexity: 5.12\n",
      "\n",
      "Training complete!\n"
     ]
    }
   ],
   "execution_count": 58
  },
  {
   "metadata": {
    "ExecuteTime": {
     "end_time": "2024-06-25T14:07:19.535727Z",
     "start_time": "2024-06-25T14:07:19.172975Z"
    }
   },
   "cell_type": "code",
   "source": "model.save_pretrained(save_model)",
   "id": "ed06f23ccb2a4a41",
   "outputs": [],
   "execution_count": 59
  },
  {
   "metadata": {
    "ExecuteTime": {
     "end_time": "2024-06-25T14:07:19.809835Z",
     "start_time": "2024-06-25T14:07:19.536618Z"
    }
   },
   "cell_type": "code",
   "source": [
    "# prepare datasets for dev_list and test_list\n",
    "test_dataset = GPT2Dataset(test_list, tokenizer, max_length=768)"
   ],
   "id": "6a5e950df7858e77",
   "outputs": [],
   "execution_count": 60
  },
  {
   "metadata": {
    "ExecuteTime": {
     "end_time": "2024-06-25T14:07:19.812744Z",
     "start_time": "2024-06-25T14:07:19.810607Z"
    }
   },
   "cell_type": "code",
   "source": [
    "# load the datasets\n",
    "test_dataloader = DataLoader(\n",
    "            test_dataset, # The validation samples.\n",
    "            sampler = SequentialSampler(test_dataset), # Pull out batches sequentially.\n",
    "            batch_size = batch_size # Evaluate with this batch size.\n",
    "        )"
   ],
   "id": "b46acefc19d5a3d5",
   "outputs": [],
   "execution_count": 61
  },
  {
   "metadata": {
    "ExecuteTime": {
     "end_time": "2024-06-25T14:07:19.816629Z",
     "start_time": "2024-06-25T14:07:19.813545Z"
    }
   },
   "cell_type": "code",
   "source": [
    "def evaluate_model(model, dataloaded):\n",
    "    model = model.to(device)\n",
    "    model.eval()\n",
    "\n",
    "    losses = []\n",
    "    perplexity = []\n",
    "    total_eval_loss = 0\n",
    "    nb_eval_steps = 0\n",
    "\n",
    "    # Evaluate data for one epoch\n",
    "    for batch in dataloaded:\n",
    "\n",
    "        b_input_ids = batch[0].to(device)\n",
    "        b_labels = batch[0].to(device)\n",
    "        b_masks = batch[1].to(device)\n",
    "\n",
    "        with torch.no_grad():        \n",
    "\n",
    "            outputs  = model(b_input_ids, \n",
    "    #                            token_type_ids=None, \n",
    "                            attention_mask = b_masks,\n",
    "                            labels=b_labels)\n",
    "\n",
    "            loss = outputs[0]  \n",
    "\n",
    "        batch_loss = loss.item()\n",
    "        losses.append(batch_loss)\n",
    "        total_eval_loss += batch_loss        \n",
    "\n",
    "    avg_val_loss = total_eval_loss / len(dataloaded)\n",
    "\n",
    "    # Calculate perplexity.\n",
    "    losses = torch.tensor(losses)\n",
    "    val_perplexity = math.exp(torch.mean(losses))\n",
    "    perplexity.append(val_perplexity)\n",
    "\n",
    "    print(\"  Validation Loss: {0:.2f}\".format(avg_val_loss))\n",
    "    print(\"  Validation perplexity: {0:.2f}\".format(val_perplexity))\n",
    "    return avg_val_loss, val_perplexity"
   ],
   "id": "30a38ad97ab7f901",
   "outputs": [],
   "execution_count": 62
  },
  {
   "metadata": {
    "ExecuteTime": {
     "end_time": "2024-06-25T14:11:54.979364Z",
     "start_time": "2024-06-25T14:07:19.817421Z"
    }
   },
   "cell_type": "code",
   "source": [
    "print('Testing...')\n",
    "test_loss, test_perplexity = evaluate_model(model, test_dataloader)\n",
    "test_eval_df = pd.DataFrame(columns = [\"test_loss\", \"test_perplexity\"])\n",
    "test_eval_df['test_loss'] = test_loss\n",
    "test_eval_df['test_perplexity'] = test_perplexity\n",
    "test_eval_df.to_csv(\"test_eval.csv\")"
   ],
   "id": "ced4489c324928de",
   "outputs": [
    {
     "name": "stdout",
     "output_type": "stream",
     "text": [
      "Testing...\n",
      "  Validation Loss: 0.50\n",
      "  Validation perplexity: 1.64\n"
     ]
    }
   ],
   "execution_count": 63
  },
  {
   "metadata": {
    "ExecuteTime": {
     "end_time": "2024-06-25T14:11:54.981893Z",
     "start_time": "2024-06-25T14:11:54.980266Z"
    }
   },
   "cell_type": "code",
   "source": [
    "# Load the trained GPT-2 model and tokenizer\n",
    "#model = GPT2LMHeadModel.from_pretrained(save_file)\n",
    "#tokenizer = GPT2Tokenizer.from_pretrained(save_file\n",
    "\n",
    "# Ensure the model is on the right device\n",
    "#device = torch.device(\"cuda\" if torch.cuda.is_available() else \"cpu\")\n",
    "#model.to(device)"
   ],
   "id": "a21baaa196c02c6d",
   "outputs": [],
   "execution_count": 64
  },
  {
   "metadata": {
    "ExecuteTime": {
     "end_time": "2024-06-25T14:11:54.986079Z",
     "start_time": "2024-06-25T14:11:54.982711Z"
    }
   },
   "cell_type": "code",
   "source": [
    "# Function to generate a recipe from a list of ingredients\n",
    "\"\"\"def generate_recipe(ingredients, model, tokenizer, max_length=400):\n",
    "    # Prepare the input prompt with the list of ingredients\n",
    "    input_text = ingredients\n",
    "    input_ids = tokenizer(input_text, return_tensors='pt').input_ids.to(device)\n",
    "    \n",
    "    # Generate the recipe\n",
    "    output = model.generate(\n",
    "        input_ids,\n",
    "        max_length=max_length,\n",
    "        num_beams=5,\n",
    "        no_repeat_ngram_size=2,\n",
    "        num_return_sequences=1,\n",
    "        pad_token_id=tokenizer.pad_token_id,\n",
    "        eos_token_id=tokenizer.eos_token_id\n",
    "    )\n",
    "    \n",
    "    # Decode the output to get the recipe text\n",
    "    recipe = tokenizer.decode(output[0], skip_special_tokens=True)\n",
    "    return recipe\"\"\""
   ],
   "id": "4c714803a00ead9f",
   "outputs": [
    {
     "data": {
      "text/plain": [
       "\"def generate_recipe(ingredients, model, tokenizer, max_length=400):\\n    # Prepare the input prompt with the list of ingredients\\n    input_text = ingredients\\n    input_ids = tokenizer(input_text, return_tensors='pt').input_ids.to(device)\\n    \\n    # Generate the recipe\\n    output = model.generate(\\n        input_ids,\\n        max_length=max_length,\\n        num_beams=5,\\n        no_repeat_ngram_size=2,\\n        num_return_sequences=1,\\n        pad_token_id=tokenizer.pad_token_id,\\n        eos_token_id=tokenizer.eos_token_id\\n    )\\n    \\n    # Decode the output to get the recipe text\\n    recipe = tokenizer.decode(output[0], skip_special_tokens=True)\\n    return recipe\""
      ]
     },
     "execution_count": 65,
     "metadata": {},
     "output_type": "execute_result"
    }
   ],
   "execution_count": 65
  },
  {
   "metadata": {
    "ExecuteTime": {
     "end_time": "2024-06-25T14:11:54.989303Z",
     "start_time": "2024-06-25T14:11:54.986763Z"
    }
   },
   "cell_type": "code",
   "source": [
    "def generate_recipe(ingredients, model, tokenizer, max_length=400, temperature=0.1, top_k=100, top_p=0.2):\n",
    "    input_text = ingredients\n",
    "    input_ids = tokenizer(input_text, return_tensors='pt').input_ids.to(device)\n",
    "    \n",
    "    output = model.generate(\n",
    "        input_ids,\n",
    "        max_length=max_length,\n",
    "        temperature=temperature, # Lower values make the model more confident (less random), while higher values increase randomness.\n",
    "        top_k=top_k,  #Increase to consider more tokens, decrease to restrict the model’s choices.\n",
    "        top_p=top_p,  # Increase to allow more diversity, decrease to make the model more conservative.\n",
    "        num_beams=20,\n",
    "        no_repeat_ngram_size=2,\n",
    "        num_return_sequences=1,\n",
    "        pad_token_id=tokenizer.pad_token_id,\n",
    "        eos_token_id=tokenizer.eos_token_id,\n",
    "        do_sample=True\n",
    "    )\n",
    "    \n",
    "    recipe = tokenizer.decode(output[0], skip_special_tokens=False)\n",
    "    return recipe"
   ],
   "id": "8d333a467310cbb3",
   "outputs": [],
   "execution_count": 66
  },
  {
   "metadata": {
    "ExecuteTime": {
     "end_time": "2024-06-25T14:11:54.991888Z",
     "start_time": "2024-06-25T14:11:54.989935Z"
    }
   },
   "cell_type": "code",
   "source": [
    "def custom_preprocessing(self, text):\n",
    "    # Example preprocessing: Lowercase the text and remove punctuation\n",
    "    text = text.lower()\n",
    "    text = text.replace(\",\", \"\").replace(\".\", \"\").replace(\"!\", \"\").replace(\"?\", \"\").replace(\"(\", \"\").replace(\")\", \"\").replace(\":\", \"\").replace(\";\", \"\").replace(\"'\", \"\").replace('\"', \"\")\n",
    "    # Add more preprocessing steps as needed\n",
    "    return text"
   ],
   "id": "5cf44bf9144318f3",
   "outputs": [],
   "execution_count": 67
  },
  {
   "metadata": {
    "ExecuteTime": {
     "end_time": "2024-06-25T14:11:55.014840Z",
     "start_time": "2024-06-25T14:11:54.992473Z"
    }
   },
   "cell_type": "code",
   "source": [
    "# Example usage\n",
    "ingredients = \"flour, sugar, cinnamon, carrot, apple, walnuts\"\n",
    "\n",
    "ingredients = '[BOS]'+ ingredients + '[STEPS]'\n",
    "ingredients = custom_preprocessing(ingredients)\n",
    "generated_recipe = generate_recipe(ingredients, model, tokenizer)\n",
    "\n",
    "print(generated_recipe)\n",
    "print(\"\\n\", len(generated_recipe) - len(ingredients))"
   ],
   "id": "d6e39adac710fb12",
   "outputs": [
    {
     "ename": "TypeError",
     "evalue": "custom_preprocessing() missing 1 required positional argument: 'text'",
     "output_type": "error",
     "traceback": [
      "\u001B[0;31m---------------------------------------------------------------------------\u001B[0m",
      "\u001B[0;31mTypeError\u001B[0m                                 Traceback (most recent call last)",
      "Cell \u001B[0;32mIn[68], line 5\u001B[0m\n\u001B[1;32m      2\u001B[0m ingredients \u001B[38;5;241m=\u001B[39m \u001B[38;5;124m\"\u001B[39m\u001B[38;5;124mflour, sugar, cinnamon, carrot, apple, walnuts\u001B[39m\u001B[38;5;124m\"\u001B[39m\n\u001B[1;32m      4\u001B[0m ingredients \u001B[38;5;241m=\u001B[39m \u001B[38;5;124m'\u001B[39m\u001B[38;5;124m[BOS]\u001B[39m\u001B[38;5;124m'\u001B[39m\u001B[38;5;241m+\u001B[39m ingredients \u001B[38;5;241m+\u001B[39m \u001B[38;5;124m'\u001B[39m\u001B[38;5;124m[STEPS]\u001B[39m\u001B[38;5;124m'\u001B[39m\n\u001B[0;32m----> 5\u001B[0m ingredients \u001B[38;5;241m=\u001B[39m \u001B[43mcustom_preprocessing\u001B[49m\u001B[43m(\u001B[49m\u001B[43mingredients\u001B[49m\u001B[43m)\u001B[49m\n\u001B[1;32m      6\u001B[0m generated_recipe \u001B[38;5;241m=\u001B[39m generate_recipe(ingredients, model, tokenizer)\n\u001B[1;32m      8\u001B[0m \u001B[38;5;28mprint\u001B[39m(generated_recipe)\n",
      "\u001B[0;31mTypeError\u001B[0m: custom_preprocessing() missing 1 required positional argument: 'text'"
     ]
    }
   ],
   "execution_count": 68
  },
  {
   "metadata": {},
   "cell_type": "code",
   "source": [
    "def get_gpt2_embedding(text):\n",
    "    input_ids = tokenizer(text, return_tensors='pt').input_ids\n",
    "    with torch.no_grad():\n",
    "        outputs = model(input_ids)\n",
    "    # Average the embeddings over the sequence length\n",
    "    embeddings = outputs.last_hidden_state.mean(dim=1)\n",
    "    return embeddings"
   ],
   "id": "e0e55771f87e6aa7",
   "outputs": [],
   "execution_count": null
  },
  {
   "metadata": {},
   "cell_type": "code",
   "source": [
    "from sklearn.metrics.pairwise import cosine_similarity\n",
    "\n",
    "def calculate_similarity(text1, text2):\n",
    "    embedding1 = get_gpt2_embedding(text1)\n",
    "    embedding2 = get_gpt2_embedding(text2)\n",
    "    similarity = cosine_similarity(embedding1, embedding2).item()\n",
    "    return similarity"
   ],
   "id": "ea72ba068932795a",
   "outputs": [],
   "execution_count": null
  },
  {
   "metadata": {},
   "cell_type": "code",
   "source": [
    "def evaluate_generated_recipe(generated_recipe, real_recipes_df):\n",
    "    similarities = []\n",
    "    for _, real_recipe in real_recipes_df.iterrows():\n",
    "        real_recipe_text = real_recipe['name'] + ' ' + real_recipe['ingredients'] + ' ' + real_recipe['steps']\n",
    "        similarity = calculate_similarity(generated_recipe, real_recipe_text)\n",
    "        similarities.append(similarity)\n",
    "\n",
    "    return max(similarities)  # or return other statistics like mean similarity\n"
   ],
   "id": "ec93984379c08cab",
   "outputs": [],
   "execution_count": null
  },
  {
   "metadata": {},
   "cell_type": "code",
   "source": [
    "def predict_rating(generated_recipe, real_recipes_df):\n",
    "    similarities = []\n",
    "    ratings = []\n",
    "    for _, real_recipe in real_recipes_df.iterrows():\n",
    "        real_recipe_text = real_recipe['name'] + ' ' + real_recipe['ingredients'] + ' ' + real_recipe['steps']\n",
    "        similarity = calculate_similarity(generated_recipe, real_recipe_text)\n",
    "        similarities.append(similarity)\n",
    "        ratings.append(real_recipe['rating'])\n",
    "\n",
    "    if similarities:\n",
    "        predicted_rating = sum([sim * rating for sim, rating in zip(similarities, ratings)]) / sum(similarities)\n",
    "        return predicted_rating\n",
    "    return None\n"
   ],
   "id": "37374d508c52582f",
   "outputs": [],
   "execution_count": null
  },
  {
   "metadata": {},
   "cell_type": "code",
   "source": [
    "# Load your real recipes dataset\n",
    "real_recipes_df = pd.read_csv(\"dataset/RAW_recipes.csv\")\n",
    "\n",
    "# Example usage\n",
    "generated_recipe = \"[INGREDIENTS] flour, sugar, cinnamon, carrot, apple, walnuts [STEPS] Mix all ingredients together. Bake at 350°F for 30 minutes.\"\n",
    "\n",
    "similarity_score = evaluate_generated_recipe(generated_recipe, reduced_recipe_list)\n",
    "print(\"Similarity score:\", similarity_score)"
   ],
   "id": "24827e26330e5aa9",
   "outputs": [],
   "execution_count": null
  }
 ],
 "metadata": {
  "kernelspec": {
   "display_name": "Python 3",
   "language": "python",
   "name": "python3"
  },
  "language_info": {
   "codemirror_mode": {
    "name": "ipython",
    "version": 2
   },
   "file_extension": ".py",
   "mimetype": "text/x-python",
   "name": "python",
   "nbconvert_exporter": "python",
   "pygments_lexer": "ipython2",
   "version": "2.7.6"
  }
 },
 "nbformat": 4,
 "nbformat_minor": 5
}
