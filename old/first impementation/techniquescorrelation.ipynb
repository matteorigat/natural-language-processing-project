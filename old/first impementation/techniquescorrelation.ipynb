{
 "cells": [
  {
   "cell_type": "code",
   "id": "initial_id",
   "metadata": {
    "collapsed": true
   },
   "source": [
    "import pandas as pd\n",
    "import numpy as np\n",
    "from sklearn.preprocessing import MultiLabelBinarizer\n",
    "import scipy.stats as stats\n",
    "\n",
    "# Lista dei metodi di cottura\n",
    "TECHNIQUES_LIST = [\n",
    "    'bake', 'barbecue', 'blanch', 'blend', 'boil', 'braise', 'brine', 'broil',\n",
    "    'caramelize', 'combine', 'crock pot', 'crush', 'deglaze', 'devein', 'dice',\n",
    "    'distill', 'drain', 'emulsify', 'ferment', 'freeze', 'fry', 'grate', 'griddle',\n",
    "    'grill', 'knead', 'leaven', 'marinate', 'mash', 'melt', 'microwave', 'parboil',\n",
    "    'pickle', 'poach', 'pour', 'pressure cook', 'puree', 'refrigerate', 'roast', 'saute',\n",
    "    'scald', 'scramble', 'shred', 'simmer', 'skillet', 'slow cook', 'smoke', 'smooth',\n",
    "    'soak', 'sous-vide', 'steam', 'stew', 'strain', 'tenderize', 'thicken', 'toast',\n",
    "    'toss', 'whip', 'whisk'\n",
    "]\n",
    "\n",
    "# Step 1: Carica il CSV in un DataFrame\n",
    "data = pd.read_csv('dataset/RAW_merged_top_smallest.csv')\n",
    "\n",
    "# Step 2: Estrazione e preprocessamento degli ingredienti e dei metodi di cottura\n",
    "data['ingredients'] = data['ingredients'].apply(eval)  # Converti la stringa in lista\n",
    "data['techniques'] = data['techniques'].apply(eval)  # Converti la stringa in lista\n",
    "\n",
    "# Binarizza gli ingredienti e i metodi di cottura\n",
    "mlb_ingredients = MultiLabelBinarizer()\n",
    "ingredients_encoded = mlb_ingredients.fit_transform(data['ingredients'])\n",
    "\n",
    "mlb_techniques = MultiLabelBinarizer(classes=TECHNIQUES_LIST)\n",
    "techniques_encoded = mlb_techniques.fit_transform(data['techniques'])\n",
    "\n",
    "# Step 3: Calcolo della Correlazione\n",
    "correlation_matrix = np.zeros((ingredients_encoded.shape[1], techniques_encoded.shape[1]))\n",
    "\n",
    "for i in range(ingredients_encoded.shape[1]):\n",
    "    for j in range(techniques_encoded.shape[1]):\n",
    "        correlation_matrix[i, j] = stats.pearsonr(ingredients_encoded[:, i], techniques_encoded[:, j])[0]\n",
    "\n",
    "# Step 4: Predizione dei Metodi di Cottura\n",
    "def find_best_techniques(ingredients, top_n=3):\n",
    "    ingredient_indices = mlb_ingredients.transform([ingredients])[0]\n",
    "    average_correlations = correlation_matrix[ingredient_indices == 1].mean(axis=0)\n",
    "    best_techniques_indices = average_correlations.argsort()[-top_n:][::-1]\n",
    "    best_techniques = mlb_techniques.classes_[best_techniques_indices]\n",
    "    return best_techniques\n",
    "\n",
    "# Esempio di utilizzo\n",
    "new_ingredients = ['winter squash', 'mexican seasoning', 'honey']\n",
    "best_techniques = find_best_techniques(new_ingredients)\n",
    "print(best_techniques)"
   ],
   "outputs": [],
   "execution_count": null
  },
  {
   "metadata": {
    "ExecuteTime": {
     "end_time": "2024-07-07T13:44:31.809184Z",
     "start_time": "2024-07-07T13:44:30.667683Z"
    }
   },
   "cell_type": "code",
   "source": [
    "import csv\n",
    "import ast\n",
    "import numpy as np\n",
    "\n",
    "TECHNIQUES_LIST = [\n",
    "    'bake', 'barbecue', 'blanch', 'blend', 'boil', 'braise', 'brine', 'broil',\n",
    "    'caramelize', 'combine', 'crock pot', 'crush', 'deglaze', 'devein', 'dice',\n",
    "    'distill', 'drain', 'emulsify', 'ferment', 'freeze', 'fry', 'grate', 'griddle',\n",
    "    'grill', 'knead', 'leaven', 'marinate', 'mash', 'melt', 'microwave', 'parboil',\n",
    "    'pickle', 'poach', 'pour', 'pressure cook', 'puree', 'refrigerate', 'roast', 'saute',\n",
    "    'scald', 'scramble', 'shred', 'simmer', 'skillet', 'slow cook', 'smoke', 'smooth',\n",
    "    'soak', 'sous-vide', 'steam', 'stew', 'strain', 'tenderize', 'thicken', 'toast',\n",
    "    'toss', 'whip', 'whisk'\n",
    "]\n",
    "\n",
    "def load_data(csv_file):\n",
    "    data = []\n",
    "    with open(csv_file, 'r') as f:\n",
    "        reader = csv.DictReader(f)\n",
    "        for row in reader:\n",
    "            techniques = ast.literal_eval(row['techniques'])\n",
    "            ingredients = ast.literal_eval(row['ingredients'])\n",
    "            data.append((techniques, ingredients))\n",
    "    return data\n",
    "\n",
    "def calculate_correlation(ingredients, data):\n",
    "    ingredient_indices = {ingredient: [] for ingredient in ingredients}\n",
    "    \n",
    "    for techniques, ingr_list in data:\n",
    "        for ingredient in ingredients:\n",
    "            if ingredient in ingr_list:\n",
    "                ingredient_indices[ingredient].append(techniques)\n",
    "    \n",
    "    # Calculate the average correlation for each technique\n",
    "    correlations = np.zeros(len(TECHNIQUES_LIST))\n",
    "    for ingredient in ingredient_indices:\n",
    "        if ingredient_indices[ingredient]:\n",
    "            correlations += np.mean(ingredient_indices[ingredient], axis=0)\n",
    "    \n",
    "    # Normalize by the number of ingredients found\n",
    "    correlations /= len(ingredients)\n",
    "    \n",
    "    return correlations\n",
    "\n",
    "def get_top_techniques(correlations, top_n=5):\n",
    "    technique_correlations = list(zip(TECHNIQUES_LIST, correlations))\n",
    "    technique_correlations.sort(key=lambda x: x[1], reverse=True)\n",
    "    return technique_correlations[:top_n]\n",
    "\n",
    "# Example usage\n",
    "csv_file = 'dataset/RAW_merged_top_smallest.csv'\n",
    "data = load_data(csv_file)\n",
    "\n",
    "ingredients = \"pasta, tomato, fish\".split(\", \")\n",
    "correlations = calculate_correlation(ingredients, data)\n",
    "top_techniques = get_top_techniques(correlations)\n",
    "\n",
    "print(\"Top techniques:\")\n",
    "for technique, score in top_techniques:\n",
    "    print(f\"{technique}: {score}\")"
   ],
   "id": "581f1bf4d2c31d5a",
   "outputs": [
    {
     "ename": "ValueError",
     "evalue": "operands could not be broadcast together with shapes (58,) (45,) (58,) ",
     "output_type": "error",
     "traceback": [
      "\u001B[0;31m---------------------------------------------------------------------------\u001B[0m",
      "\u001B[0;31mValueError\u001B[0m                                Traceback (most recent call last)",
      "Cell \u001B[0;32mIn[1], line 55\u001B[0m\n\u001B[1;32m     52\u001B[0m data \u001B[38;5;241m=\u001B[39m load_data(csv_file)\n\u001B[1;32m     54\u001B[0m ingredients \u001B[38;5;241m=\u001B[39m \u001B[38;5;124m\"\u001B[39m\u001B[38;5;124mpasta, tomato, fish\u001B[39m\u001B[38;5;124m\"\u001B[39m\u001B[38;5;241m.\u001B[39msplit(\u001B[38;5;124m\"\u001B[39m\u001B[38;5;124m, \u001B[39m\u001B[38;5;124m\"\u001B[39m)\n\u001B[0;32m---> 55\u001B[0m correlations \u001B[38;5;241m=\u001B[39m \u001B[43mcalculate_correlation\u001B[49m\u001B[43m(\u001B[49m\u001B[43mingredients\u001B[49m\u001B[43m,\u001B[49m\u001B[43m \u001B[49m\u001B[43mdata\u001B[49m\u001B[43m)\u001B[49m\n\u001B[1;32m     56\u001B[0m top_techniques \u001B[38;5;241m=\u001B[39m get_top_techniques(correlations)\n\u001B[1;32m     58\u001B[0m \u001B[38;5;28mprint\u001B[39m(\u001B[38;5;124m\"\u001B[39m\u001B[38;5;124mTop techniques:\u001B[39m\u001B[38;5;124m\"\u001B[39m)\n",
      "Cell \u001B[0;32mIn[1], line 38\u001B[0m, in \u001B[0;36mcalculate_correlation\u001B[0;34m(ingredients, data)\u001B[0m\n\u001B[1;32m     36\u001B[0m \u001B[38;5;28;01mfor\u001B[39;00m ingredient \u001B[38;5;129;01min\u001B[39;00m ingredient_indices:\n\u001B[1;32m     37\u001B[0m     \u001B[38;5;28;01mif\u001B[39;00m ingredient_indices[ingredient]:\n\u001B[0;32m---> 38\u001B[0m         \u001B[43mcorrelations\u001B[49m\u001B[43m \u001B[49m\u001B[38;5;241;43m+\u001B[39;49m\u001B[38;5;241;43m=\u001B[39;49m\u001B[43m \u001B[49m\u001B[43mnp\u001B[49m\u001B[38;5;241;43m.\u001B[39;49m\u001B[43mmean\u001B[49m\u001B[43m(\u001B[49m\u001B[43mingredient_indices\u001B[49m\u001B[43m[\u001B[49m\u001B[43mingredient\u001B[49m\u001B[43m]\u001B[49m\u001B[43m,\u001B[49m\u001B[43m \u001B[49m\u001B[43maxis\u001B[49m\u001B[38;5;241;43m=\u001B[39;49m\u001B[38;5;241;43m0\u001B[39;49m\u001B[43m)\u001B[49m\n\u001B[1;32m     40\u001B[0m \u001B[38;5;66;03m# Normalize by the number of ingredients found\u001B[39;00m\n\u001B[1;32m     41\u001B[0m correlations \u001B[38;5;241m/\u001B[39m\u001B[38;5;241m=\u001B[39m \u001B[38;5;28mlen\u001B[39m(ingredients)\n",
      "\u001B[0;31mValueError\u001B[0m: operands could not be broadcast together with shapes (58,) (45,) (58,) "
     ]
    }
   ],
   "execution_count": 1
  },
  {
   "metadata": {
    "ExecuteTime": {
     "end_time": "2024-07-07T14:02:38.529292Z",
     "start_time": "2024-07-07T14:02:37.667323Z"
    }
   },
   "cell_type": "code",
   "source": [
    "import pandas as pd\n",
    "\n",
    "# Supponiamo che il file CSV sia chiamato 'recipes.csv'\n",
    "file_path = 'dataset/RAW_merged_top_smallest.csv'\n",
    "\n",
    "# Leggi i dati dal CSV\n",
    "df = pd.read_csv(file_path)\n",
    "\n",
    "# Lista estesa di parole chiave per i metodi di cottura\n",
    "cooking_keywords = [\"bake\", \"boil\", \"braise\", \"broil\", \"deep fry\", \"grill\", \"pan fry\", \"poach\", \"pressure cook\", \"roast\", \"sauté\", \"simmer\", \"steam\", \"stew\", \"blanch\", \"caramelize\", \"clarify\", \"deglaze\", \"flambé\", \"fold\", \"glaze\", \"marinate\", \"pickle\", \"reduce\", \"sear\", \"smoke\", \"sous-vide\", \"temper\", \"whip\"]\n",
    "\n",
    "# Funzione ottimizzata per estrarre i metodi di cottura\n",
    "def extract_cooking_methods(steps):\n",
    "    methods = set()\n",
    "    steps_list = eval(steps)\n",
    "    \n",
    "    for step in steps_list:\n",
    "        for keyword in cooking_keywords:\n",
    "            if keyword in step:\n",
    "                methods.add(keyword)\n",
    "    return list(methods)\n",
    "\n",
    "# Applica la funzione per creare una nuova colonna\n",
    "df['cooking_methods'] = df['steps'].apply(extract_cooking_methods)\n",
    "\n",
    "# Salva il DataFrame in un nuovo CSV\n",
    "output_file_path = 'updated_recipes.csv'\n",
    "df.to_csv(output_file_path, index=False)\n",
    "\n",
    "print(f'Il nuovo CSV è stato salvato come {output_file_path}')"
   ],
   "id": "c1fa2d7637f47ba3",
   "outputs": [
    {
     "name": "stdout",
     "output_type": "stream",
     "text": [
      "Il nuovo CSV è stato salvato come updated_recipes.csv\n"
     ]
    }
   ],
   "execution_count": 2
  }
 ],
 "metadata": {
  "kernelspec": {
   "display_name": "Python 3",
   "language": "python",
   "name": "python3"
  },
  "language_info": {
   "codemirror_mode": {
    "name": "ipython",
    "version": 2
   },
   "file_extension": ".py",
   "mimetype": "text/x-python",
   "name": "python",
   "nbconvert_exporter": "python",
   "pygments_lexer": "ipython2",
   "version": "2.7.6"
  }
 },
 "nbformat": 4,
 "nbformat_minor": 5
}
