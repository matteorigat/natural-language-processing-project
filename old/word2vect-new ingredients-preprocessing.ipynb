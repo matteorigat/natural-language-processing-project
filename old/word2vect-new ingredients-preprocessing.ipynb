{
 "cells": [
  {
   "metadata": {
    "ExecuteTime": {
     "end_time": "2025-04-24T15:10:29.633804Z",
     "start_time": "2025-04-24T15:10:29.631990Z"
    }
   },
   "cell_type": "code",
   "source": "#!pip install scipy==1.12",
   "id": "ef59430db0c8a4c6",
   "outputs": [],
   "execution_count": 1
  },
  {
   "metadata": {
    "ExecuteTime": {
     "end_time": "2025-04-24T15:10:30.457223Z",
     "start_time": "2025-04-24T15:10:29.640425Z"
    }
   },
   "cell_type": "code",
   "source": [
    "# Import necessary libraries\n",
    "from numpy import triu\n",
    "import pandas as pd\n",
    "import numpy as np\n",
    "from collections import Counter\n",
    "import matplotlib.pyplot as plt\n",
    "import seaborn as sns\n",
    "from collections import defaultdict\n",
    "import re\n",
    "from gensim.models import Word2Vec\n",
    "from nltk import WordNetLemmatizer\n",
    "from nltk.corpus import stopwords\n",
    "import nltk\n",
    "from sklearn.preprocessing import MinMaxScaler\n",
    "from sklearn.cluster import KMeans\n",
    "from scipy.spatial.distance import cdist\n",
    "\n",
    "# Download NLTK data\n",
    "nltk.download('stopwords')\n",
    "nltk.download('wordnet')"
   ],
   "id": "d22ad72859cd83cd",
   "outputs": [
    {
     "name": "stderr",
     "output_type": "stream",
     "text": [
      "[nltk_data] Downloading package stopwords to\n",
      "[nltk_data]     /Users/matteorigat/nltk_data...\n",
      "[nltk_data]   Package stopwords is already up-to-date!\n",
      "[nltk_data] Downloading package wordnet to\n",
      "[nltk_data]     /Users/matteorigat/nltk_data...\n",
      "[nltk_data]   Package wordnet is already up-to-date!\n"
     ]
    },
    {
     "data": {
      "text/plain": [
       "True"
      ]
     },
     "execution_count": 2,
     "metadata": {},
     "output_type": "execute_result"
    }
   ],
   "execution_count": 2
  },
  {
   "metadata": {
    "ExecuteTime": {
     "end_time": "2025-04-24T15:10:30.516078Z",
     "start_time": "2025-04-24T15:10:30.512916Z"
    }
   },
   "cell_type": "code",
   "source": [
    "# Define the list of cooking techniques\n",
    "TECHNIQUES_LIST = [\n",
    "    'bake', 'boil', 'braise', 'broil', 'fry', 'grill', 'roast', 'saute', 'simmer',\n",
    "    'steam', 'stew'\n",
    "]\n",
    "\n",
    "# Define a new technique mapping based on TECHNIQUES_LIST\n",
    "technique_mapping = {\n",
    "    'bake': 'bake',\n",
    "    'barbecue': 'grill',\n",
    "    'blanch': 'boil',\n",
    "    'blend': 'combine',\n",
    "    'boil': 'boil',\n",
    "    'braise': 'braise',\n",
    "    'brine': 'marinate',\n",
    "    'broil': 'broil',\n",
    "    'caramelize': 'saute',\n",
    "    'combine': 'combine',\n",
    "    'crock pot': 'slow cook',\n",
    "    'crush': 'puree',\n",
    "    'deglaze': 'saute',\n",
    "    'devein': 'prepare',\n",
    "    'dice': 'prepare',\n",
    "    'distill': 'boil',\n",
    "    'drain': 'boil',\n",
    "    'emulsify': 'mix',\n",
    "    'ferment': 'bake',\n",
    "    'freeze': 'refrigerate',\n",
    "    'fry': 'fry',\n",
    "    'grate': 'saute',\n",
    "    'griddle': 'prepare',\n",
    "    'grill': 'grill',\n",
    "    'knead': 'prepare',\n",
    "    'leaven': 'bake',\n",
    "    'marinate': 'marinate',\n",
    "    'mash': 'stew',\n",
    "    'melt': 'melt',\n",
    "    'microwave': 'stew',\n",
    "    'parboil': 'bake',\n",
    "    'pickle': 'pickling',\n",
    "    'poach': 'stew',\n",
    "    'pour': 'combine',\n",
    "    'pressure cook': 'bake',\n",
    "    'puree': 'puree',\n",
    "    'refrigerate': 'refrigerate',\n",
    "    'roast': 'roast',\n",
    "    'saute': 'saute',\n",
    "    'scald': 'fry',\n",
    "    'scramble': 'combine',\n",
    "    'shred': 'puree',\n",
    "    'simmer': 'simmer',\n",
    "    'skillet': 'saute',\n",
    "    'slow cook': 'slow cook',\n",
    "    'smoke': 'grill',\n",
    "    'smooth': 'stew',\n",
    "    'soak': 'bake',\n",
    "    'sous-vide': 'combine',\n",
    "    'steam': 'steam',\n",
    "    'stew': 'stew',\n",
    "    'strain': 'bake',\n",
    "    'tenderize': 'fry',\n",
    "    'thicken': 'boil',\n",
    "    'toast': 'grill',\n",
    "    'toss': 'stew',\n",
    "    'whip': 'grill',\n",
    "    'whisk': 'stew'\n",
    "}"
   ],
   "id": "ccfd09d686bbc660",
   "outputs": [],
   "execution_count": 3
  },
  {
   "metadata": {
    "ExecuteTime": {
     "end_time": "2025-04-24T15:10:31.441407Z",
     "start_time": "2025-04-24T15:10:30.521284Z"
    }
   },
   "cell_type": "code",
   "source": [
    "file_path = \"../dataset/RAW_merged.csv\"\n",
    "data = pd.read_csv(file_path)"
   ],
   "id": "55d8e60438c4c99e",
   "outputs": [],
   "execution_count": 4
  },
  {
   "metadata": {
    "ExecuteTime": {
     "end_time": "2025-04-24T15:10:31.450932Z",
     "start_time": "2025-04-24T15:10:31.448725Z"
    }
   },
   "cell_type": "code",
   "source": [
    "# # Function to convert one-hot encoded techniques back to list format\n",
    "# def one_hot_to_list(row):\n",
    "#     techniques_one_hot = eval(row['techniques'])\n",
    "#     techniques_list = [TECHNIQUES_LIST[i] for i, val in enumerate(techniques_one_hot) if val == 1]\n",
    "#     return techniques_list\n",
    "# \n",
    "# # Apply the function to each row to convert one-hot encoded techniques to list format\n",
    "# data['techniques'] = data.apply(one_hot_to_list, axis=1)"
   ],
   "id": "a79c3360979e847e",
   "outputs": [],
   "execution_count": 5
  },
  {
   "metadata": {
    "ExecuteTime": {
     "end_time": "2025-04-24T15:10:37.959951Z",
     "start_time": "2025-04-24T15:10:31.457702Z"
    }
   },
   "cell_type": "code",
   "source": [
    "# Initialize lists to store raw ingredients and techniques\n",
    "raw_ingredients = []\n",
    "raw_techniques = []\n",
    "\n",
    "# Extract ingredients and techniques from each recipe\n",
    "for index, row in data.iterrows():\n",
    "    ingredients = eval(row['ingredients'])\n",
    "    raw_ingredients.extend(ingredients)\n",
    "\n",
    "    techniques = eval(row['techniques_list'])\n",
    "    raw_techniques.extend(techniques)"
   ],
   "id": "6ceae1214737bc16",
   "outputs": [],
   "execution_count": 6
  },
  {
   "metadata": {
    "ExecuteTime": {
     "end_time": "2025-04-24T15:10:37.967519Z",
     "start_time": "2025-04-24T15:10:37.965869Z"
    }
   },
   "cell_type": "code",
   "source": [
    "# Clean out non-letter or space symbols and collapse the list into a collection of ingredients\n",
    "# regex = re.compile('[^a-zA-Z ]')\n",
    "# ingredients_full = [regex.sub('', item.lower()).strip() for item in raw_ingredients]\n",
    "# raw_ingredients = np.unique(ingredients_full)\n",
    "# print(len(raw_ingredients))\n",
    "# for item in raw_ingredients:\n",
    "#    print(item)"
   ],
   "id": "449c3df1d16306d2",
   "outputs": [],
   "execution_count": 7
  },
  {
   "metadata": {
    "ExecuteTime": {
     "end_time": "2025-04-24T15:10:37.975251Z",
     "start_time": "2025-04-24T15:10:37.973510Z"
    }
   },
   "cell_type": "code",
   "source": [
    "# Look at words in the data to clean unnecessary differentiators\n",
    "# words=[x for item in raw_ingredients for x in item.split(' ') if len(x)>1]\n",
    "# for word in words:\n",
    "#    print(word)"
   ],
   "id": "407ba447855f09c",
   "outputs": [],
   "execution_count": 8
  },
  {
   "metadata": {
    "ExecuteTime": {
     "end_time": "2025-04-24T15:10:37.982455Z",
     "start_time": "2025-04-24T15:10:37.981047Z"
    }
   },
   "cell_type": "code",
   "source": [
    "# Construct a frequence dictionary and create a dataset of words to drop\n",
    "# uniqueFrequencies = {i:words.count(i) for i in words}\n",
    "# dropWords=[k for k in uniqueFrequencies.keys() if uniqueFrequencies[k]==1]\\\n",
    "# +['yellow','black','red','green','white','purple','cloves','and','cook','drain','allpurpose','purpose','all','pitted','crumbles','powder', 'whole', 'extract', 'sweet', 'baby', 'bakin', 'brow', 'canned', 'celery']\n",
    "# len(dropWords)"
   ],
   "id": "18eff6b25db25b30",
   "outputs": [],
   "execution_count": 9
  },
  {
   "metadata": {
    "ExecuteTime": {
     "end_time": "2025-04-24T15:10:38.105498Z",
     "start_time": "2025-04-24T15:10:37.988741Z"
    }
   },
   "cell_type": "code",
   "source": [
    "# Count frequencies of ingredients and techniques\n",
    "ingredient_counts = Counter(raw_ingredients)\n",
    "technique_counts = Counter(raw_techniques)"
   ],
   "id": "6c70597500e9908a",
   "outputs": [],
   "execution_count": 10
  },
  {
   "metadata": {
    "ExecuteTime": {
     "end_time": "2025-04-24T15:10:38.122692Z",
     "start_time": "2025-04-24T15:10:38.117884Z"
    }
   },
   "cell_type": "code",
   "source": [
    "# Print out statistics\n",
    "print('Total number of unique ingredients:', len(ingredient_counts))\n",
    "print('Total number of unique techniques:', len(technique_counts))\n",
    "\n",
    "# Example of how to print the most common ingredients\n",
    "print('\\nTop most common ingredients:')\n",
    "for ingredient, count in ingredient_counts.most_common(5):\n",
    "    print(f'{ingredient}: {count}')\n",
    "\n",
    "# Example of how to print the most common techniques\n",
    "print('\\nTop most common techniques:')\n",
    "for technique, count in technique_counts.most_common(5):   #57 in total\n",
    "    print(f'{technique}: {count}')\n",
    "\n",
    "# # Assuming you also want to print out the distribution of cuisines based on the number of steps\n",
    "# steps_counts = Counter(data['steps'].apply(lambda x: len(eval(x))))\n",
    "# print('\\nDistribution of recipes based on number of steps:')\n",
    "# for steps, count in steps_counts.items():\n",
    "#     print(f'{steps} steps: {count} recipes')\n"
   ],
   "id": "47653b9226b9e0ef",
   "outputs": [
    {
     "name": "stdout",
     "output_type": "stream",
     "text": [
      "Total number of unique ingredients: 13627\n",
      "Total number of unique techniques: 57\n",
      "\n",
      "Top most common ingredients:\n",
      "salt: 66469\n",
      "butter: 43862\n",
      "sugar: 33884\n",
      "onion: 31624\n",
      "water: 25953\n",
      "\n",
      "Top most common techniques:\n",
      "bake: 64821\n",
      "combine: 60136\n",
      "pour: 48747\n",
      "boil: 42354\n",
      "melt: 30865\n"
     ]
    }
   ],
   "execution_count": 11
  },
  {
   "metadata": {
    "ExecuteTime": {
     "end_time": "2025-04-24T15:10:38.647119Z",
     "start_time": "2025-04-24T15:10:38.136142Z"
    }
   },
   "cell_type": "code",
   "source": [
    "# Plotting the first bar plot for ingredients\n",
    "plt.figure(figsize=(12, 8))  # Adjust the figure size as needed\n",
    "plt.subplot(2, 1, 1)  # Create subplot 1 (rows, columns, plot_number)\n",
    "x_cu = [cu for cu, frq in ingredient_counts.most_common(30)]\n",
    "y_frq = [frq for cu, frq in ingredient_counts.most_common(30)]\n",
    "fbar = sns.barplot(x=x_cu, y=y_frq)\n",
    "plt.xticks(rotation=90)  # Rotate x-axis labels\n",
    "\n",
    "# Adding labels and title for the first subplot\n",
    "plt.xlabel('Ingredients')\n",
    "plt.ylabel('Frequency')\n",
    "plt.title('Top 30 Most Common Ingredients')\n",
    "\n",
    "# Plotting the second bar plot for techniques\n",
    "plt.subplot(2, 1, 2)  # Create subplot 2 (rows, columns, plot_number)\n",
    "x_cu2 = [cu for cu, frq in technique_counts.most_common(20)]\n",
    "y_frq2 = [frq for cu, frq in technique_counts.most_common(20)]\n",
    "fbar2 = sns.barplot(x=x_cu2, y=y_frq2)\n",
    "plt.xticks(rotation=90)  # Rotate x-axis labels\n",
    "\n",
    "# Adding labels and title for the second subplot\n",
    "plt.xlabel('Techniques')\n",
    "plt.ylabel('Frequency')\n",
    "plt.title('Top 20 Most Common Techniques')\n",
    "\n",
    "plt.tight_layout()  # Adjust layout to prevent overlap\n",
    "plt.show()"
   ],
   "id": "daa9b5e008b09d5f",
   "outputs": [
    {
     "data": {
      "text/plain": [
       "<Figure size 1200x800 with 2 Axes>"
      ],
      "image/png": "[encoded data removed]"
     },
     "metadata": {},
     "output_type": "display_data"
    }
   ],
   "execution_count": 12
  },
  {
   "metadata": {
    "ExecuteTime": {
     "end_time": "2025-04-24T15:10:52.720456Z",
     "start_time": "2025-04-24T15:10:38.660223Z"
    }
   },
   "cell_type": "code",
   "source": [
    "sentences = []\n",
    "stop_words = set(stopwords.words('english'))\n",
    "lemmatizer = WordNetLemmatizer()\n",
    "regex = re.compile('[^a-zA-Z ]')\n",
    "\n",
    "# Define common ingredients to filter out\n",
    "#common_ingredients_to_avoid = ['salt', 'sugar', 'water', 'pepper', 'butter', 'onion', 'garlic', 'oil', 'parsley']\n",
    "common_ingredients_to_avoid = []\n",
    "\n",
    "# Function to clean and filter ingredients\n",
    "def clean_ingredient(ingredient):\n",
    "    cleaned_ingredient = regex.sub('', ingredient.lower()).strip()\n",
    "    cleaned_words = []\n",
    "    \n",
    "    for word in cleaned_ingredient.split():\n",
    "        if word in common_ingredients_to_avoid:\n",
    "            cleaned_words = []\n",
    "            break\n",
    "        elif len(word) > 2 and word not in stop_words:\n",
    "            cleaned_words.append(lemmatizer.lemmatize(word))\n",
    "    \n",
    "    return cleaned_words\n",
    "\n",
    "# Iterate through each row in the DataFrame\n",
    "for index, row in data.iterrows():\n",
    "    clean_recipe = []\n",
    "    ingredients = eval(row['ingredients'])\n",
    "    \n",
    "    for ingredient in ingredients:\n",
    "        cleaned_words = clean_ingredient(ingredient)\n",
    "        if cleaned_words:  # Check if cleaned_words is not empty\n",
    "            clean_recipe.append(\" \".join(cleaned_words))\n",
    "        \n",
    "    sentences.append(clean_recipe)\n",
    "\n",
    "# Print the number of recipes processed\n",
    "print(f\"Number of recipes cleaned: {len(sentences)}\")\n",
    "print(sentences[:5])"
   ],
   "id": "fc7482ef40ea454",
   "outputs": [
    {
     "name": "stdout",
     "output_type": "stream",
     "text": [
      "Number of recipes cleaned: 178265\n",
      "[['winter squash', 'mexican seasoning', 'mixed spice', 'honey', 'butter', 'olive oil', 'salt'], ['prepared pizza crust', 'sausage patty', 'egg', 'milk', 'salt pepper', 'cheese'], ['spreadable cheese garlic herb', 'new potato', 'shallot', 'parsley', 'tarragon', 'olive oil', 'red wine vinegar', 'salt', 'pepper', 'red bell pepper', 'yellow bell pepper'], ['milk', 'vanilla ice cream', 'frozen apple juice concentrate', 'apple'], ['fennel seed', 'green olive', 'ripe olive', 'garlic', 'peppercorn', 'orange rind', 'orange juice', 'red chile', 'extra virgin olive oil']]\n"
     ]
    }
   ],
   "execution_count": 13
  },
  {
   "metadata": {
    "ExecuteTime": {
     "end_time": "2025-04-24T15:10:52.748374Z",
     "start_time": "2025-04-24T15:10:52.746192Z"
    }
   },
   "cell_type": "code",
   "source": [
    "# from gensim.models.phrases import Phraser, Phrases\n",
    "# \n",
    "# # Flatten the list of lists to feed into bigram/trigram models\n",
    "# flattened_sentences = [ingredient.split() for sublist in sentences for ingredient in sublist]\n",
    "# \n",
    "# # Apply bigram and trigram models using Gensim's Phrases\n",
    "# bigram = Phrases(flattened_sentences, min_count=2, threshold=0.01)\n",
    "# trigram = Phrases(bigram[flattened_sentences], min_count=5, threshold=0.01)\n",
    "# \n",
    "# # Convert bigram and trigram models to more efficient Phrasers\n",
    "# bigram_phraser = Phraser(bigram)\n",
    "# trigram_phraser = Phraser(trigram)\n",
    "# \n",
    "# print(bigram)\n",
    "# print(trigram)\n",
    "# for i in range(10):\n",
    "#     print(bigram_phraser[flattened_sentences[i]])\n",
    "#     print(trigram_phraser[bigram_phraser[flattened_sentences[i]]])\n",
    "# \n",
    "# # Apply bigram and trigram models to the corpus\n",
    "# tokenized_corpus = [trigram_phraser[bigram_phraser[ingredient]] for ingredient in flattened_sentences]"
   ],
   "id": "df92489efb99af18",
   "outputs": [],
   "execution_count": 14
  },
  {
   "metadata": {
    "ExecuteTime": {
     "end_time": "2025-04-24T15:10:53.945515Z",
     "start_time": "2025-04-24T15:10:52.754687Z"
    }
   },
   "cell_type": "code",
   "source": [
    "# Flatten the list of lists\n",
    "flattened_sentences = [ingredient for sublist in sentences for ingredient in sublist]\n",
    "print(flattened_sentences[:5])\n",
    "# Tokenize each ingredient (assuming simple split by space)\n",
    "tokenized_corpus = [ingredient.split() for ingredient in flattened_sentences]\n",
    "print(tokenized_corpus[:5])"
   ],
   "id": "c5c9693aeece9153",
   "outputs": [
    {
     "name": "stdout",
     "output_type": "stream",
     "text": [
      "['winter squash', 'mexican seasoning', 'mixed spice', 'honey', 'butter']\n",
      "[['winter', 'squash'], ['mexican', 'seasoning'], ['mixed', 'spice'], ['honey'], ['butter']]\n"
     ]
    }
   ],
   "execution_count": 15
  },
  {
   "metadata": {
    "ExecuteTime": {
     "end_time": "2025-04-24T15:11:10.643759Z",
     "start_time": "2025-04-24T15:10:53.960016Z"
    }
   },
   "cell_type": "code",
   "source": [
    "# Set values for Word2Vec parameters\n",
    "num_features = 100      # Example dimensionality of word vectors\n",
    "min_word_count = 2     # Consider all words, even if they appear only once\n",
    "num_workers = 1        # Number of threads to run in parallel\n",
    "context = 5            # Context window size\n",
    "\n",
    "# Train the Word2Vec model\n",
    "model = Word2Vec(tokenized_corpus, vector_size=num_features, min_count=min_word_count, workers=num_workers, window=context, epochs=10, sg=1)\n",
    "\n",
    "# # Create a dictionary to store word vectors\n",
    "# ingredient_vectors = {}\n",
    "# for ingredient in flattened_sentences:\n",
    "#     words = ingredient  # Now `ingredient` is already tokenized\n",
    "#     valid_words = [model.wv[word] for word in words if word in model.wv]\n",
    "#     if valid_words:\n",
    "#         ingredient_vectors[\" \".join(words)] = np.mean(valid_words, axis=0)\n",
    "# \n",
    "# # Normalize the vectors using MinMaxScaler\n",
    "# #scaler = MinMaxScaler()\n",
    "# #scaled_vectors = scaler.fit_transform(list(ingredient_vectors.values()))\n",
    "\n",
    "print(list(model.wv.key_to_index.keys())[:20])"
   ],
   "id": "e350671104032492",
   "outputs": [
    {
     "name": "stdout",
     "output_type": "stream",
     "text": [
      "['pepper', 'salt', 'sugar', 'onion', 'oil', 'cheese', 'fresh', 'garlic', 'butter', 'egg', 'ground', 'flour', 'powder', 'cream', 'olive', 'sauce', 'chicken', 'juice', 'water', 'tomato']\n"
     ]
    }
   ],
   "execution_count": 16
  },
  {
   "metadata": {
    "ExecuteTime": {
     "end_time": "2025-04-24T15:11:10.659625Z",
     "start_time": "2025-04-24T15:11:10.657717Z"
    }
   },
   "cell_type": "code",
   "source": [
    "def similarity(word1, word2):\n",
    "    words1 = word1.split()\n",
    "    words2 = word2.split()\n",
    "    return model.wv.n_similarity(words1, words2)"
   ],
   "id": "c4c87abadcb3764f",
   "outputs": [],
   "execution_count": 17
  },
  {
   "metadata": {
    "ExecuteTime": {
     "end_time": "2025-04-24T15:11:10.703885Z",
     "start_time": "2025-04-24T15:11:10.697994Z"
    }
   },
   "cell_type": "code",
   "source": [
    "# Example to find similarity between two ingredients with names included\n",
    "print(f\"Similarity between 'oil' and 'oil': {similarity('oil', 'oil')}\")\n",
    "print(f\"Similarity between 'chicken' and 'beef': {similarity('chicken', 'beef')}\")\n",
    "print(f\"Similarity between 'spaghetti' and 'pasta': {similarity('spaghetti', 'pasta')}\")\n",
    "print(f\"Similarity between 'tomato' and 'rum': {similarity('tomato', 'rum')}\")\n",
    "print(f\"Similarity between 'oil' and 'butter': {similarity('oil', 'butter')}\")\n",
    "print(f\"Similarity between 'olive oil' and 'butter': {similarity('olive oil', 'butter')}\")\n",
    "print(f\"Similarity between 'olive oil' and 'oil': {similarity('olive oil', 'oil')}\")\n",
    "print()\n",
    "print(f\"Similarity between 'salt' and 'pepper': {similarity('salt', 'pepper')}\")           # Common seasoning\n",
    "print(f\"Similarity between 'milk' and 'cream': {similarity('milk', 'cream')}\")             # Related dairy products\n",
    "print(f\"Similarity between 'bread' and 'toast': {similarity('bread', 'toast')}\")             # Bread-related\n",
    "print(f\"Similarity between 'carrot' and 'broccoli': {similarity('carrot', 'broccoli')}\")        # Vegetables\n",
    "print(f\"Similarity between 'chocolate' and 'cocoa': {similarity('chocolate', 'cocoa')}\")        # Related ingredients\n",
    "print(f\"Similarity between 'apple' and 'banana': {similarity('apple', 'banana')}\")           # Different fruits\n",
    "print(f\"Similarity between 'chicken' and 'vegetable': {similarity('chicken', 'vegetable')}\")      # Meat vs. vegetable\n",
    "print(f\"Similarity between 'sugar' and 'honey': {similarity('sugar', 'honey')}\")            # Sweeteners\n",
    "print(f\"Similarity between 'rice' and 'quinoa': {similarity('rice', 'quinoa')}\")             # Grains\n",
    "print(f\"Similarity between 'beef' and 'pork': {similarity('beef', 'pork')}\")                # Different types of meat\n",
    "print(f\"Similarity between 'broccoli' and 'cauliflower': {similarity('broccoli', 'cauliflower')}\")     # Similar vegetables\n",
    "print(f\"Similarity between 'spinach' and 'kale': {similarity('spinach', 'kale')}\")             # Leafy greens\n",
    "print(f\"Similarity between 'tomato' and 'bell pepper': {similarity('tomato', 'bell pepper')}\")       # Related vegetables\n",
    "print(f\"Similarity between 'shrimp' and 'crab': {similarity('shrimp', 'crab')}\")              # Seafood\n",
    "print(f\"Similarity between 'almond' and 'walnut': {similarity('almond', 'walnut')}\")            # Nuts\n",
    "print(f\"Similarity between 'olive oil' and 'avocado oil': {similarity('olive oil', 'avocado oil')}\")    # Oils\n",
    "print(f\"Similarity between 'lemon' and 'lime': {similarity('lemon', 'lime')}\")               # Citrus fruits\n",
    "print(f\"Similarity between 'basil' and 'oregano': {similarity('basil', 'oregano')}\")            # Herbs\n",
    "print(f\"Similarity between 'cheddar cheese' and 'gouda cheese': {similarity('cheddar cheese', 'gouda cheese')}\") # Types of cheese\n",
    "print(f\"Similarity between 'chicken broth' and 'vegetable broth': {similarity('chicken broth', 'vegetable broth')}\") # Types of broth\n",
    "print(f\"Similarity between 'flour' and 'cornmeal': {similarity('flour', 'cornmeal')}\")           # Baking ingredients\n",
    "print(f\"Similarity between 'carrot' and 'potato': {similarity('carrot', 'potato')}\")            # Root vegetables\n",
    "print(f\"Similarity between 'cinnamon' and 'nutmeg': {similarity('cinnamon', 'nutmeg')}\")          # Spices"
   ],
   "id": "7a759ca640041d5",
   "outputs": [
    {
     "name": "stdout",
     "output_type": "stream",
     "text": [
      "Similarity between 'oil' and 'oil': 1.0\n",
      "Similarity between 'chicken' and 'beef': 0.5816606283187866\n",
      "Similarity between 'spaghetti' and 'pasta': 0.5635505318641663\n",
      "Similarity between 'tomato' and 'rum': 0.25208327174186707\n",
      "Similarity between 'oil' and 'butter': 0.3370467722415924\n",
      "Similarity between 'olive oil' and 'butter': 0.346981018781662\n",
      "Similarity between 'olive oil' and 'oil': 0.8780490159988403\n",
      "\n",
      "Similarity between 'salt' and 'pepper': 0.389132559299469\n",
      "Similarity between 'milk' and 'cream': 0.5319579243659973\n",
      "Similarity between 'bread' and 'toast': 0.6492661237716675\n",
      "Similarity between 'carrot' and 'broccoli': 0.5288262367248535\n",
      "Similarity between 'chocolate' and 'cocoa': 0.5402670502662659\n",
      "Similarity between 'apple' and 'banana': 0.39466387033462524\n",
      "Similarity between 'chicken' and 'vegetable': 0.49459338188171387\n",
      "Similarity between 'sugar' and 'honey': 0.2442401647567749\n",
      "Similarity between 'rice' and 'quinoa': 0.6048318147659302\n",
      "Similarity between 'beef' and 'pork': 0.5453090667724609\n",
      "Similarity between 'broccoli' and 'cauliflower': 0.7618234157562256\n",
      "Similarity between 'spinach' and 'kale': 0.7091183662414551\n",
      "Similarity between 'tomato' and 'bell pepper': 0.4125412106513977\n",
      "Similarity between 'shrimp' and 'crab': 0.4266858398914337\n",
      "Similarity between 'almond' and 'walnut': 0.5451018214225769\n",
      "Similarity between 'olive oil' and 'avocado oil': 0.887633204460144\n",
      "Similarity between 'lemon' and 'lime': 0.7581287622451782\n",
      "Similarity between 'basil' and 'oregano': 0.7481036186218262\n",
      "Similarity between 'cheddar cheese' and 'gouda cheese': 0.9159241914749146\n",
      "Similarity between 'chicken broth' and 'vegetable broth': 0.8419759273529053\n",
      "Similarity between 'flour' and 'cornmeal': 0.5925738215446472\n",
      "Similarity between 'carrot' and 'potato': 0.4896640181541443\n",
      "Similarity between 'cinnamon' and 'nutmeg': 0.5984519720077515\n"
     ]
    }
   ],
   "execution_count": 18
  },
  {
   "metadata": {
    "ExecuteTime": {
     "end_time": "2025-04-24T15:11:10.782935Z",
     "start_time": "2025-04-24T15:11:10.765867Z"
    }
   },
   "cell_type": "code",
   "source": [
    "similar_ingredients = model.wv.most_similar('pasta')\n",
    "print('Ingredients most similar to pasta:')\n",
    "for ingredient, score in similar_ingredients:\n",
    "    print(f'{ingredient}: {score}')"
   ],
   "id": "deff362c8247cbeb",
   "outputs": [
    {
     "name": "stdout",
     "output_type": "stream",
     "text": [
      "Ingredients most similar to pasta:\n",
      "rigate: 0.8010612726211548\n",
      "pepe: 0.708641529083252\n",
      "acinus: 0.6998681426048279\n",
      "bow: 0.6914342045783997\n",
      "spiral: 0.6450992822647095\n",
      "tie: 0.6443288326263428\n",
      "barilla: 0.621550977230072\n",
      "hair: 0.6189924478530884\n",
      "tricolor: 0.6189289689064026\n",
      "fusilli: 0.6141546368598938\n"
     ]
    }
   ],
   "execution_count": 19
  },
  {
   "metadata": {
    "ExecuteTime": {
     "end_time": "2025-04-24T15:11:16.937188Z",
     "start_time": "2025-04-24T15:11:10.975648Z"
    }
   },
   "cell_type": "code",
   "source": [
    "# Group techniques to form corpus\n",
    "technique_corpus = [[technique] for technique in raw_techniques]\n",
    "print(technique_corpus[:5])\n",
    "# Tokenize each technique\n",
    "tokenized_techniques = [technique.split() for technique in raw_techniques]\n",
    "print(tokenized_techniques[:5])\n",
    "\n",
    "# Set values for Word2Vec parameters\n",
    "num_features = 50      # Example dimensionality of word vectors\n",
    "min_word_count = 5     # Consider all words, even if they appear only once\n",
    "num_workers = 1        # Number of threads to run in parallel\n",
    "context = 5            # Context window size\n",
    "\n",
    "# Train the Word2Vec model for techniques\n",
    "technique_model = Word2Vec(tokenized_techniques, vector_size=num_features, min_count=min_word_count, workers=num_workers, window=context)\n",
    "\n",
    "# Create a dictionary to store technique vectors\n",
    "technique_vectors = {technique: np.mean([technique_model.wv[word] for word in technique.split()], axis=0) for technique in raw_techniques}\n",
    "\n",
    "# Normalize the technique vectors\n",
    "scaled_technique_vectors = scaler.fit_transform(list(technique_vectors.values()))\n",
    "\n",
    "# Elbow method to determine the optimal number of clusters for techniques\n",
    "distortions = []\n",
    "K = range(1, 15)\n",
    "for k in K:\n",
    "    kmeanModel = KMeans(n_clusters=k).fit(scaled_technique_vectors)\n",
    "    distortions.append(sum(np.min(cdist(scaled_technique_vectors, kmeanModel.cluster_centers_, 'euclidean'), axis=1)) / scaled_technique_vectors.shape[0])\n",
    "\n",
    "# Plot the elbow for techniques\n",
    "plt.figure()\n",
    "plt.plot(K, distortions, 'bx-')\n",
    "plt.xlabel('k')\n",
    "plt.ylabel('Distortion')\n",
    "plt.title('The Elbow Method showing the optimal k for techniques')\n",
    "plt.show()\n",
    "\n",
    "# Perform KMeans clustering on techniques\n",
    "num_clusters_techniques = len(TECHNIQUES_LIST)\n",
    "kmeans_technique_clustering = KMeans(n_clusters=num_clusters_techniques)\n",
    "technique_idx = kmeans_technique_clustering.fit_predict(scaled_technique_vectors)\n",
    "\n",
    "# Assign clusters to techniques\n",
    "technique_assignments = list(zip(technique_vectors.keys(), technique_idx))\n",
    "print('Technique Cluster assignments:')\n",
    "for technique, cluster in technique_assignments:\n",
    "    print(f'{technique}: Cluster {cluster}')"
   ],
   "id": "e963ddfa4f72afa6",
   "outputs": [
    {
     "name": "stdout",
     "output_type": "stream",
     "text": [
      "[['bake'], ['grate'], ['melt'], ['bake'], ['pour']]\n",
      "[['bake'], ['grate'], ['melt'], ['bake'], ['pour']]\n"
     ]
    },
    {
     "ename": "NameError",
     "evalue": "name 'scaler' is not defined",
     "output_type": "error",
     "traceback": [
      "\u001B[0;31m---------------------------------------------------------------------------\u001B[0m",
      "\u001B[0;31mNameError\u001B[0m                                 Traceback (most recent call last)",
      "Cell \u001B[0;32mIn[20], line 21\u001B[0m\n\u001B[1;32m     18\u001B[0m technique_vectors \u001B[38;5;241m=\u001B[39m {technique: np\u001B[38;5;241m.\u001B[39mmean([technique_model\u001B[38;5;241m.\u001B[39mwv[word] \u001B[38;5;28;01mfor\u001B[39;00m word \u001B[38;5;129;01min\u001B[39;00m technique\u001B[38;5;241m.\u001B[39msplit()], axis\u001B[38;5;241m=\u001B[39m\u001B[38;5;241m0\u001B[39m) \u001B[38;5;28;01mfor\u001B[39;00m technique \u001B[38;5;129;01min\u001B[39;00m raw_techniques}\n\u001B[1;32m     20\u001B[0m \u001B[38;5;66;03m# Normalize the technique vectors\u001B[39;00m\n\u001B[0;32m---> 21\u001B[0m scaled_technique_vectors \u001B[38;5;241m=\u001B[39m \u001B[43mscaler\u001B[49m\u001B[38;5;241m.\u001B[39mfit_transform(\u001B[38;5;28mlist\u001B[39m(technique_vectors\u001B[38;5;241m.\u001B[39mvalues()))\n\u001B[1;32m     23\u001B[0m \u001B[38;5;66;03m# Elbow method to determine the optimal number of clusters for techniques\u001B[39;00m\n\u001B[1;32m     24\u001B[0m distortions \u001B[38;5;241m=\u001B[39m []\n",
      "\u001B[0;31mNameError\u001B[0m: name 'scaler' is not defined"
     ]
    }
   ],
   "execution_count": 20
  },
  {
   "metadata": {
    "ExecuteTime": {
     "end_time": "2025-04-24T15:11:16.943795Z",
     "start_time": "2024-10-01T08:22:37.156454Z"
    }
   },
   "cell_type": "code",
   "source": [
    "# Create a dictionary to hold techniques grouped by their cluster assignments\n",
    "clustered_techniques = {}\n",
    "\n",
    "# Group techniques by their cluster index\n",
    "for technique, cluster in technique_assignments:\n",
    "    if cluster not in clustered_techniques:\n",
    "        clustered_techniques[cluster] = []\n",
    "    clustered_techniques[cluster].append(technique)\n",
    "\n",
    "# Print the techniques for each cluster\n",
    "for cluster, techniques in clustered_techniques.items():\n",
    "    print(f'Cluster {cluster}:')\n",
    "    for technique in techniques:\n",
    "        print(f'  - {technique}')\n",
    "    print()  # Print a newline for better readability"
   ],
   "id": "255cba1a06abf380",
   "outputs": [
    {
     "name": "stdout",
     "output_type": "stream",
     "text": [
      "Cluster 0:\n",
      "  - bake\n",
      "  - grate\n",
      "  - pour\n",
      "  - whisk\n",
      "  - freeze\n",
      "  - fry\n",
      "  - grill\n",
      "  - strain\n",
      "  - pickle\n",
      "  - steam\n",
      "  - scramble\n",
      "  - scald\n",
      "  - poach\n",
      "\n",
      "Cluster 4:\n",
      "  - melt\n",
      "  - combine\n",
      "  - crush\n",
      "  - saute\n",
      "  - mash\n",
      "  - brine\n",
      "  - distill\n",
      "\n",
      "Cluster 9:\n",
      "  - boil\n",
      "  - braise\n",
      "  - tenderize\n",
      "\n",
      "Cluster 8:\n",
      "  - dice\n",
      "  - microwave\n",
      "\n",
      "Cluster 7:\n",
      "  - drain\n",
      "  - refrigerate\n",
      "  - simmer\n",
      "  - skillet\n",
      "  - shred\n",
      "  - barbecue\n",
      "  - leaven\n",
      "\n",
      "Cluster 10:\n",
      "  - blend\n",
      "  - whip\n",
      "  - toss\n",
      "  - smoke\n",
      "  - soak\n",
      "  - knead\n",
      "\n",
      "Cluster 5:\n",
      "  - smooth\n",
      "  - marinate\n",
      "  - thicken\n",
      "  - broil\n",
      "  - devein\n",
      "  - emulsify\n",
      "  - blanch\n",
      "\n",
      "Cluster 6:\n",
      "  - toast\n",
      "  - puree\n",
      "  - deglaze\n",
      "  - stew\n",
      "  - roast\n",
      "  - caramelize\n",
      "  - griddle\n",
      "  - parboil\n",
      "  - ferment\n",
      "\n",
      "Cluster 2:\n",
      "  - crock pot\n",
      "\n",
      "Cluster 1:\n",
      "  - slow cook\n",
      "\n",
      "Cluster 3:\n",
      "  - pressure cook\n",
      "\n"
     ]
    }
   ],
   "execution_count": 101
  },
  {
   "metadata": {
    "ExecuteTime": {
     "end_time": "2025-04-24T15:11:16.966488Z",
     "start_time": "2024-10-01T08:24:24.060713Z"
    }
   },
   "cell_type": "code",
   "source": [
    "technique_cluster_map = {technique: cluster for technique, cluster in technique_assignments}\n",
    "\n",
    "ingredients_per_technique_cluster = defaultdict(list)\n",
    "techniques_per_technique_cluster = defaultdict(list)\n",
    "\n",
    "for index, row in data.iterrows():\n",
    "    ingredients = eval(row['ingredients'])\n",
    "    techniques = eval(row['techniques_list'])\n",
    "    for technique in techniques:\n",
    "        cluster = technique_cluster_map.get(technique)\n",
    "        if cluster is not None:\n",
    "            ingredients_per_technique_cluster[cluster].extend(ingredients)\n",
    "            techniques_per_technique_cluster[cluster].extend(techniques)\n",
    "\n",
    "dominant_techniques_per_cluster = {cluster: Counter(techniques).most_common(1)[0][0] for cluster, techniques in\n",
    "                                   techniques_per_technique_cluster.items()}\n",
    "cluster_to_method = {cluster: technique for cluster, technique in dominant_techniques_per_cluster.items()}\n",
    "\n",
    "ingredient_cluster_map = {ingredient: kmeans_technique_clustering.predict(\n",
    "    scaler.transform([np.mean([model.wv[word] for word in ingredient.split()], axis=0)]))[0] for ingredient in\n",
    "                          ingredients_corpus}"
   ],
   "id": "caa0a8225ff526d2",
   "outputs": [
    {
     "ename": "NameError",
     "evalue": "name 'ingredients_corpus' is not defined",
     "output_type": "error",
     "traceback": [
      "\u001B[0;31m---------------------------------------------------------------------------\u001B[0m",
      "\u001B[0;31mNameError\u001B[0m                                 Traceback (most recent call last)",
      "Cell \u001B[0;32mIn[103], line 21\u001B[0m\n\u001B[1;32m     15\u001B[0m dominant_techniques_per_cluster \u001B[38;5;241m=\u001B[39m {cluster: Counter(techniques)\u001B[38;5;241m.\u001B[39mmost_common(\u001B[38;5;241m1\u001B[39m)[\u001B[38;5;241m0\u001B[39m][\u001B[38;5;241m0\u001B[39m] \u001B[38;5;28;01mfor\u001B[39;00m cluster, techniques \u001B[38;5;129;01min\u001B[39;00m\n\u001B[1;32m     16\u001B[0m                                    techniques_per_technique_cluster\u001B[38;5;241m.\u001B[39mitems()}\n\u001B[1;32m     17\u001B[0m cluster_to_method \u001B[38;5;241m=\u001B[39m {cluster: technique \u001B[38;5;28;01mfor\u001B[39;00m cluster, technique \u001B[38;5;129;01min\u001B[39;00m dominant_techniques_per_cluster\u001B[38;5;241m.\u001B[39mitems()}\n\u001B[1;32m     19\u001B[0m ingredient_cluster_map \u001B[38;5;241m=\u001B[39m {ingredient: kmeans_technique_clustering\u001B[38;5;241m.\u001B[39mpredict(\n\u001B[1;32m     20\u001B[0m     scaler\u001B[38;5;241m.\u001B[39mtransform([np\u001B[38;5;241m.\u001B[39mmean([model\u001B[38;5;241m.\u001B[39mwv[word] \u001B[38;5;28;01mfor\u001B[39;00m word \u001B[38;5;129;01min\u001B[39;00m ingredient\u001B[38;5;241m.\u001B[39msplit()], axis\u001B[38;5;241m=\u001B[39m\u001B[38;5;241m0\u001B[39m)]))[\u001B[38;5;241m0\u001B[39m] \u001B[38;5;28;01mfor\u001B[39;00m ingredient \u001B[38;5;129;01min\u001B[39;00m\n\u001B[0;32m---> 21\u001B[0m                           \u001B[43mingredients_corpus\u001B[49m}\n",
      "\u001B[0;31mNameError\u001B[0m: name 'ingredients_corpus' is not defined"
     ]
    }
   ],
   "execution_count": 103
  },
  {
   "metadata": {
    "ExecuteTime": {
     "end_time": "2025-04-24T15:11:16.973253Z",
     "start_time": "2024-09-24T09:05:36.408052Z"
    }
   },
   "cell_type": "code",
   "source": [
    "def clean_ingredient(ingredient):\n",
    "    cleaned_ingredient = regex.sub('', ingredient.lower()).strip()\n",
    "    cleaned_words = []\n",
    "    \n",
    "    for word in cleaned_ingredient.split():\n",
    "        if word in common_ingredients_to_avoid:\n",
    "            cleaned_words = []\n",
    "            break\n",
    "        elif len(word) > 2 and word not in stop_words:\n",
    "            cleaned_words.append(lemmatizer.lemmatize(word))\n",
    "    \n",
    "    return cleaned_words"
   ],
   "id": "9913193a9a1e60bc",
   "outputs": [],
   "execution_count": 158
  },
  {
   "metadata": {
    "ExecuteTime": {
     "end_time": "2025-04-24T15:11:16.992887Z",
     "start_time": "2024-09-24T09:05:38.806909Z"
    }
   },
   "cell_type": "code",
   "source": [
    "from sklearn.metrics.pairwise import cosine_similarity\n",
    "from gensim.models import KeyedVectors\n",
    "import numpy as np\n",
    "\n",
    "# Load pre-trained Word2Vec model\n",
    "# model = KeyedVectors.load_word2vec_format('path/to/GoogleNews-vectors-negative300.bin', binary=True)\n",
    "\n",
    "KEY_INGREDIENTS = [\n",
    "    'chicken', 'beef', 'pork', 'fish', 'shrimp', 'lobster', 'crab', \n",
    "    'tofu', 'egg', 'pasta', 'rice', \n",
    "    'tomato', 'carrot', 'mushroom', 'milk',\n",
    "]\n",
    "\n",
    "# Generate embeddings for key ingredients\n",
    "key_ingredient_embeddings = {ingredient: model.wv[ingredient] for ingredient in KEY_INGREDIENTS if ingredient in model.wv}\n",
    "\n",
    "def get_dominant_cooking_methods(ingredients, ingredient_cluster_map, cluster_to_method, ingredient_counts):\n",
    "    method_counts = Counter()\n",
    "    \n",
    "    # Clean and filter ingredients\n",
    "    cleaned_ingredients = []\n",
    "    for ingredient in ingredients:\n",
    "        cleaned_words = clean_ingredient(ingredient)\n",
    "        if cleaned_words:  # Check if cleaned_words is not empty\n",
    "            cleaned_ingredients.append(\" \".join(cleaned_words))\n",
    "    \n",
    "    # Calculate weights for each ingredient based on similarity to key ingredients\n",
    "    weights = {}\n",
    "    for ingredient in cleaned_ingredients:\n",
    "        if ingredient in model.wv:\n",
    "            ingredient_embedding = model.wv[ingredient]\n",
    "            similarities = cosine_similarity(\n",
    "                [ingredient_embedding], \n",
    "                [embedding for embedding in key_ingredient_embeddings.values()]\n",
    "            )\n",
    "            max_similarity = max(similarities[0])\n",
    "            weights[ingredient] = max_similarity\n",
    "        else:\n",
    "            weights[ingredient] = 0\n",
    "    \n",
    "    # Manually adjust weights for key ingredients\n",
    "    for ingredient in cleaned_ingredients:\n",
    "        if ingredient in KEY_INGREDIENTS:\n",
    "            weights[ingredient] = weights.get(ingredient, 0) + 3  # Add a higher weight for key ingredients\n",
    "    \n",
    "    # Normalize weights to ensure balance\n",
    "    if weights:\n",
    "        max_weight = max(weights.values())\n",
    "        weights = {ingredient: (weight / max_weight) for ingredient, weight in weights.items()}\n",
    "    \n",
    "    # Calculate method counts using the mapped techniques\n",
    "    for ingredient in cleaned_ingredients:\n",
    "        cluster = ingredient_cluster_map.get(ingredient)\n",
    "        if cluster is not None:\n",
    "            method = cluster_to_method.get(cluster)\n",
    "            if method:\n",
    "                mapped_method = technique_mapping.get(method)\n",
    "                if mapped_method:\n",
    "                    method_counts[mapped_method] += weights[ingredient]\n",
    "    \n",
    "    # Normalize method counts\n",
    "    if method_counts:\n",
    "        max_count = max(method_counts.values())\n",
    "        method_counts = {method: count / max_count for method, count in method_counts.items()}\n",
    "    \n",
    "    # Get top 3 methods from TECHNIQUES_LIST\n",
    "    top_methods = sorted(method_counts.items(), key=lambda x: x[1], reverse=True)[:3]\n",
    "    \n",
    "    # Determine the most important ingredient based on weights\n",
    "    most_important_ingredient = max(cleaned_ingredients, key=lambda x: weights.get(x, 0))\n",
    "    \n",
    "    return [method for method, _ in top_methods], most_important_ingredient"
   ],
   "id": "b726efe6d53085fd",
   "outputs": [],
   "execution_count": 159
  },
  {
   "metadata": {
    "ExecuteTime": {
     "end_time": "2025-04-24T15:11:17.010905Z",
     "start_time": "2024-09-24T09:05:45.722879Z"
    }
   },
   "cell_type": "code",
   "source": [
    "# Example usage\n",
    "ingredients_list_1 = ['chicken', 'potato', 'oil', 'water', 'butter', 'onion', 'garlic', 'salt', 'pepper', 'parsley']\n",
    "dominant_methods_1, important_ingredient_1 = get_dominant_cooking_methods(ingredients_list_1, ingredient_cluster_map, cluster_to_method, ingredient_counts)\n",
    "print(f\"Top cooking methods for the given ingredients (emphasis on '{important_ingredient_1}'): {dominant_methods_1}\")\n",
    "\n",
    "ingredients_list_2 = ['pasta', 'tomato', 'onion', 'garlic', 'cheese', 'olive oil', 'basil', 'salt', 'pepper', 'parsley']\n",
    "dominant_methods_2, important_ingredient_2 = get_dominant_cooking_methods(ingredients_list_2, ingredient_cluster_map, cluster_to_method, ingredient_counts)\n",
    "print(f\"Top cooking methods for the given ingredients (emphasis on '{important_ingredient_2}'): {dominant_methods_2}\")\n"
   ],
   "id": "dbe3339cf7a57f87",
   "outputs": [
    {
     "name": "stdout",
     "output_type": "stream",
     "text": [
      "Top cooking methods for the given ingredients (emphasis on 'chicken'): ['roast', 'bake', 'combine']\n",
      "Top cooking methods for the given ingredients (emphasis on 'tomato'): ['boil', 'combine', 'bake']\n"
     ]
    }
   ],
   "execution_count": 161
  }
 ],
 "metadata": {
  "kernelspec": {
   "display_name": "Python 3",
   "language": "python",
   "name": "python3"
  },
  "language_info": {
   "codemirror_mode": {
    "name": "ipython",
    "version": 2
   },
   "file_extension": ".py",
   "mimetype": "text/x-python",
   "name": "python",
   "nbconvert_exporter": "python",
   "pygments_lexer": "ipython2",
   "version": "2.7.6"
  }
 },
 "nbformat": 4,
 "nbformat_minor": 5
}
