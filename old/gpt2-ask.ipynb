{
 "cells": [
  {
   "cell_type": "code",
   "id": "initial_id",
   "metadata": {
    "collapsed": true,
    "ExecuteTime": {
     "end_time": "2024-10-02T09:42:32.778324Z",
     "start_time": "2024-10-02T09:42:32.772968Z"
    }
   },
   "source": [
    "from tqdm import tqdm\n",
    "from transformers import GPT2LMHeadModel, GPT2Tokenizer\n",
    "from rouge import Rouge\n",
    "import torch\n",
    "import csv\n",
    "import random\n",
    "from sklearn.metrics.pairwise import cosine_similarity\n",
    "from transformers import BertModel, BertTokenizer\n"
   ],
   "outputs": [],
   "execution_count": 2
  },
  {
   "metadata": {
    "ExecuteTime": {
     "end_time": "2024-10-02T09:42:32.820222Z",
     "start_time": "2024-10-02T09:42:32.817162Z"
    }
   },
   "cell_type": "code",
   "source": [
    "saved_model = \"models/topsmallest2\"\n",
    "model_name = \"gpt2\""
   ],
   "id": "2887c735014ffaa6",
   "outputs": [],
   "execution_count": 3
  },
  {
   "metadata": {
    "ExecuteTime": {
     "end_time": "2024-10-02T09:42:33.103348Z",
     "start_time": "2024-10-02T09:42:32.834778Z"
    }
   },
   "cell_type": "code",
   "source": [
    "# Load the GPT tokenizer.\n",
    "tokenizer = GPT2Tokenizer.from_pretrained(model_name, bos_token='[BOS]', eos_token='[EOS]', pad_token='[PAD]')\n",
    "# add special tokens for title, ingredients and instruction seperator\n",
    "special_tokens_dict = {'additional_special_tokens': ['[INGREDIENTS]', '[STEPS]']}  # '[INGR]',  '[STEP]'\n",
    "# check the number of special tokens\n",
    "num_added_toks = tokenizer.add_special_tokens(special_tokens_dict)\n",
    "print('We have added', num_added_toks, 'tokens')"
   ],
   "id": "ca1255941f36fbb1",
   "outputs": [
    {
     "name": "stdout",
     "output_type": "stream",
     "text": [
      "We have added 2 tokens\n"
     ]
    }
   ],
   "execution_count": 4
  },
  {
   "metadata": {
    "ExecuteTime": {
     "end_time": "2024-10-02T09:42:35.178348Z",
     "start_time": "2024-10-02T09:42:33.111017Z"
    }
   },
   "cell_type": "code",
   "source": [
    "# Load the trained GPT-2 model and tokenizer\n",
    "model = GPT2LMHeadModel.from_pretrained(saved_model)\n",
    "model.resize_token_embeddings(len(tokenizer))\n",
    "\n",
    "# Ensure the model is on the right device\n",
    "device = torch.device(\"cuda\" if torch.cuda.is_available() else \"cpu\")\n",
    "model.to(device)"
   ],
   "id": "165285e2cfc6ebef",
   "outputs": [
    {
     "data": {
      "text/plain": [
       "GPT2LMHeadModel(\n",
       "  (transformer): GPT2Model(\n",
       "    (wte): Embedding(50262, 768)\n",
       "    (wpe): Embedding(1024, 768)\n",
       "    (drop): Dropout(p=0.1, inplace=False)\n",
       "    (h): ModuleList(\n",
       "      (0-11): 12 x GPT2Block(\n",
       "        (ln_1): LayerNorm((768,), eps=1e-05, elementwise_affine=True)\n",
       "        (attn): GPT2Attention(\n",
       "          (c_attn): Conv1D()\n",
       "          (c_proj): Conv1D()\n",
       "          (attn_dropout): Dropout(p=0.1, inplace=False)\n",
       "          (resid_dropout): Dropout(p=0.1, inplace=False)\n",
       "        )\n",
       "        (ln_2): LayerNorm((768,), eps=1e-05, elementwise_affine=True)\n",
       "        (mlp): GPT2MLP(\n",
       "          (c_fc): Conv1D()\n",
       "          (c_proj): Conv1D()\n",
       "          (act): NewGELUActivation()\n",
       "          (dropout): Dropout(p=0.1, inplace=False)\n",
       "        )\n",
       "      )\n",
       "    )\n",
       "    (ln_f): LayerNorm((768,), eps=1e-05, elementwise_affine=True)\n",
       "  )\n",
       "  (lm_head): Linear(in_features=768, out_features=50262, bias=False)\n",
       ")"
      ]
     },
     "execution_count": 5,
     "metadata": {},
     "output_type": "execute_result"
    }
   ],
   "execution_count": 5
  },
  {
   "metadata": {
    "ExecuteTime": {
     "end_time": "2024-10-02T09:42:35.253553Z",
     "start_time": "2024-10-02T09:42:35.250425Z"
    }
   },
   "cell_type": "code",
   "source": [
    "def generate_recipe(ingredients, model, tokenizer, max_length=820, temperature=0.5, top_k=50, top_p=0.5):\n",
    "    #ingredients = ingredients.split(', ')\n",
    "    #ingredients_str = ''.join([f\"[INGR]{ingr}\" for ingr in ingredients])\n",
    "    input_text = '[BOS][INGREDIENTS]' + ingredients +'[TECHNIQUES]'+ 'distill, caramelize, saute' +'[STEPS]'\n",
    "    input_ids = tokenizer(input_text, return_tensors='pt').input_ids.to(device)\n",
    "    \n",
    "    output = model.generate(\n",
    "        input_ids,\n",
    "        max_length=max_length,\n",
    "        temperature=temperature, # Lower values make the model more confident (less random), while higher values increase randomness.\n",
    "        top_k=top_k,  #Increase to consider more tokens, decrease to restrict the model’s choices.\n",
    "        top_p=top_p,  # Increase to allow more diversity, decrease to make the model more conservative.\n",
    "        num_beams=3,\n",
    "        no_repeat_ngram_size=5,\n",
    "        num_return_sequences=1,\n",
    "        pad_token_id=tokenizer.pad_token_id,\n",
    "        eos_token_id=tokenizer.eos_token_id,\n",
    "        do_sample=True\n",
    "    )\n",
    "    \n",
    "    recipe = tokenizer.decode(output[0], skip_special_tokens=False)\n",
    "    \n",
    "    # Replace lowercase special tokens with uppercase\n",
    "    recipe = recipe.replace('[bos]', '[BOS]').replace('[ingredients]', '[INGREDIENTS]').replace('[steps]', '[STEPS]').replace('[eos]', '[EOS]')\n",
    "    \n",
    "    recipe = recipe.split('[EOS]', 1)[0] + '[EOS]'\n",
    "        \n",
    "    return recipe"
   ],
   "id": "3dce51f769144fd4",
   "outputs": [],
   "execution_count": 6
  },
  {
   "metadata": {
    "ExecuteTime": {
     "end_time": "2024-10-02T09:42:35.275313Z",
     "start_time": "2024-10-02T09:42:35.272587Z"
    }
   },
   "cell_type": "code",
   "source": [
    "def print_highlighted(generated_recipe, ingredients):\n",
    "    recipe=generated_recipe\n",
    "    ingredients_list = [ing.strip().lower() for ing in ingredients.split(',')]\n",
    "    for ingredient in ingredients_list:\n",
    "        recipe = recipe.replace(ingredient, f'\\033[91m{ingredient}\\033[0m')\n",
    "    return recipe"
   ],
   "id": "14db32a328345733",
   "outputs": [],
   "execution_count": 7
  },
  {
   "metadata": {
    "ExecuteTime": {
     "end_time": "2024-10-02T09:42:36.855556Z",
     "start_time": "2024-10-02T09:42:35.283784Z"
    }
   },
   "cell_type": "code",
   "source": [
    "# Example usage\n",
    "ingredients = \"tomato puree, lemon juice, salt, oregano, basil, thyme, garlic powder\"\n",
    "\n",
    "generated_recipe = generate_recipe(ingredients, model, tokenizer)\n",
    "    \n",
    "print(print_highlighted(generated_recipe, ingredients))\n",
    "print(\"\\n\", len(generated_recipe) - len(ingredients))"
   ],
   "id": "2e215ecde86eeb55",
   "outputs": [
    {
     "name": "stdout",
     "output_type": "stream",
     "text": [
      "[BOS] [INGREDIENTS] \u001B[91mtomato puree\u001B[0m, \u001B[91mlemon juice\u001B[0m, \u001B[91msalt\u001B[0m, \u001B[91moregano\u001B[0m, \u001B[91mbasil\u001B[0m, \u001B[91mthyme\u001B[0m, \u001B[91mgarlic powder\u001B[0m[TECHNIQUES]distill, caramelize, saute [STEPS]  chicken, stir, stir, and serve[TECH[PAD][PAD][PAD][PAD][PAD] [STEPS] [PAD][PAD][PAD][PAD] [INGREDIENTS] [PAD][PAD][PAD][PAD][BOS][PAD][PAD][PAD][PAD][EOS]\n",
      "\n",
      " 222\n"
     ]
    }
   ],
   "execution_count": 8
  },
  {
   "metadata": {
    "ExecuteTime": {
     "end_time": "2024-09-17T13:07:55.390182Z",
     "start_time": "2024-09-17T13:07:55.388272Z"
    }
   },
   "cell_type": "code",
   "source": "",
   "id": "334df9a0846b0eb4",
   "outputs": [],
   "execution_count": null
  },
  {
   "metadata": {},
   "cell_type": "markdown",
   "source": "# Evaluate the generated recipe",
   "id": "2e1f60401ab845db"
  },
  {
   "metadata": {
    "ExecuteTime": {
     "end_time": "2024-09-17T13:07:55.411316Z",
     "start_time": "2024-09-17T13:07:55.407961Z"
    }
   },
   "cell_type": "code",
   "source": [
    "# load and also preprocess the raw data\n",
    "def load_preprocess_raw_data(raw_data):\n",
    "    recipe_instances = []\n",
    "\n",
    "    with open(raw_data, 'r', encoding='utf-8') as f:\n",
    "        reader = csv.DictReader(f)\n",
    "        for row in reader:\n",
    "            # Extract relevant fields from CSV row\n",
    "            #name = row['name'].lower().replace('\"', '')  # Remove any extra quotes\n",
    "            ingredients = row['ingredients'].lower().replace('\\'', '').replace('[', '').replace(']', '')\n",
    "            instructions = row['steps'].lower().replace('\\'', '').replace('[', '').replace(']', '')\n",
    "\n",
    "            # Prepare recipe instance string\n",
    "            recipe_instance = '[BOS]' + ingredients + '[STEPS]' + instructions + '[EOS]'  #+name+'[INGREDIENTS]'\n",
    "\n",
    "            # Limit length to 2000 characters as per your function\n",
    "            if len(recipe_instance) <= 3000:\n",
    "                recipe_instances.append(recipe_instance)\n",
    "\n",
    "    return recipe_instances"
   ],
   "id": "dc8f49e07f4f214d",
   "outputs": [],
   "execution_count": 59
  },
  {
   "metadata": {
    "ExecuteTime": {
     "end_time": "2024-09-17T13:07:55.486775Z",
     "start_time": "2024-09-17T13:07:55.426877Z"
    }
   },
   "cell_type": "code",
   "source": [
    "# create text list for dataset\n",
    "# https://www.kaggle.com/datasets/shuyangli94/food-com-recipes-and-user-interactions/data\n",
    "recipe_list = load_preprocess_raw_data(\"dataset/RAW_merged_top_smallest.csv\")\n",
    "recipe_list = random.sample(recipe_list, int(0.1 * len(recipe_list)))"
   ],
   "id": "fa0dfde3c3812d48",
   "outputs": [],
   "execution_count": 60
  },
  {
   "metadata": {
    "ExecuteTime": {
     "end_time": "2024-09-17T13:07:57.115593Z",
     "start_time": "2024-09-17T13:07:55.494387Z"
    }
   },
   "cell_type": "code",
   "source": [
    "# Initialize models and tokenizers\n",
    "model_name_bert = 'bert-base-uncased'\n",
    "tokenizer_bert = BertTokenizer.from_pretrained(model_name_bert)\n",
    "model_bert = BertModel.from_pretrained(model_name_bert)\n",
    "\n",
    "rouge = Rouge()\n",
    "\n",
    "\n",
    "# Function to calculate ROUGE-L F1 score\n",
    "def calculate_rouge_score(text1, text2):\n",
    "    scores = rouge.get_scores(text1, text2)\n",
    "    rouge_l_f1 = scores[0]['rouge-l']['f']\n",
    "    return rouge_l_f1\n",
    "\n",
    "\n",
    "# Function to get GPT-2 embeddings\n",
    "def get_gpt2_embedding(text, model, tokenizer):\n",
    "    input_ids = tokenizer.encode(text, return_tensors='pt')\n",
    "    with torch.no_grad():\n",
    "        outputs = model(input_ids)\n",
    "    hidden_states = outputs[0]\n",
    "    pooled_embedding = torch.mean(hidden_states, dim=1)\n",
    "    return pooled_embedding\n",
    "\n",
    "\n",
    "# Function to calculate cosine similarity for GPT-2 embeddings\n",
    "def calculate_gpt2_similarity(text1, text2, model, tokenizer):\n",
    "    embedding1 = get_gpt2_embedding(text1, model, tokenizer)\n",
    "    embedding2 = get_gpt2_embedding(text2, model, tokenizer)\n",
    "    similarity = cosine_similarity(embedding1, embedding2).item()\n",
    "    return similarity\n",
    "\n",
    "\n",
    "# Function to encode text for BERT\n",
    "def encode_text(text, tokenizer):\n",
    "    input_ids = tokenizer.encode(text, return_tensors='pt', max_length=512, truncation=True)\n",
    "    return input_ids\n",
    "\n",
    "\n",
    "# Function to calculate BERT embeddings\n",
    "def get_bert_embedding(input_ids, model):\n",
    "    with torch.no_grad():\n",
    "        outputs = model(input_ids)\n",
    "        last_hidden_state = outputs.last_hidden_state\n",
    "        pooled_embedding = torch.mean(last_hidden_state, dim=1)\n",
    "    return pooled_embedding\n",
    "\n",
    "\n",
    "# Function to calculate cosine similarity for BERT embeddings\n",
    "def calculate_bert_similarity(text1, text2, model, tokenizer):\n",
    "    input1 = encode_text(text1, tokenizer)\n",
    "    input2 = encode_text(text2, tokenizer)\n",
    "    embedding1 = get_bert_embedding(input1, model)\n",
    "    embedding2 = get_bert_embedding(input2, model)\n",
    "    similarity = cosine_similarity(embedding1.cpu(), embedding2.cpu()).item()\n",
    "    return similarity\n",
    "\n",
    "\n",
    "# Function to evaluate generated recipe against a list of real recipes\n",
    "def evaluate_generated_recipe(generated_recipe, real_recipes):\n",
    "    rouge_scores = []\n",
    "    gpt2_similarities = []\n",
    "    bert_similarities = []\n",
    "\n",
    "    for real_recipe in tqdm(real_recipes, desc=\"Evaluating recipes\"):\n",
    "        rouge_score = calculate_rouge_score(generated_recipe, real_recipe)\n",
    "        gpt2_similarity = calculate_gpt2_similarity(generated_recipe, real_recipe, model, tokenizer)\n",
    "        bert_similarity = calculate_bert_similarity(generated_recipe, real_recipe, model_bert, tokenizer_bert)\n",
    "\n",
    "        rouge_scores.append(rouge_score)\n",
    "        gpt2_similarities.append(gpt2_similarity)\n",
    "        bert_similarities.append(bert_similarity)\n",
    "\n",
    "    # Calculate average scores\n",
    "    avg_scores = [(sum(scores) / len(scores)) for scores in zip(rouge_scores)]\n",
    "    #, gpt2_similarities, bert_similarities\n",
    "\n",
    "    # Find index of recipe with maximum average score\n",
    "    max_index = avg_scores.index(max(avg_scores))\n",
    "\n",
    "    return real_recipes[max_index], rouge_scores[max_index], gpt2_similarities[max_index], bert_similarities[max_index]"
   ],
   "id": "f6c97dbc2dd3d3c5",
   "outputs": [],
   "execution_count": 61
  },
  {
   "metadata": {
    "ExecuteTime": {
     "end_time": "2024-09-17T13:11:57.561274Z",
     "start_time": "2024-09-17T13:07:57.141040Z"
    }
   },
   "cell_type": "code",
   "source": [
    "best_recipe = evaluate_generated_recipe(generated_recipe, recipe_list)\n",
    "\n",
    "print(\"Generated Recipe:\")\n",
    "print(print_highlighted(generated_recipe, ingredients))\n",
    "print(\"\\nMost Similar Real Recipe:\")\n",
    "print(print_highlighted(best_recipe[0], ingredients), \"\\n\\nrouge-l f1:\", best_recipe[1], \"\\nGPT-2 similarity:\",\n",
    "      best_recipe[2], \"\\nBERT similarity:\", best_recipe[3])"
   ],
   "id": "ce011dff65770dc4",
   "outputs": [
    {
     "name": "stderr",
     "output_type": "stream",
     "text": [
      "Evaluating recipes: 100%|██████████| 601/601 [04:00<00:00,  2.50it/s]"
     ]
    },
    {
     "name": "stdout",
     "output_type": "stream",
     "text": [
      "Generated Recipe:\n",
      "[BOS] [INGREDIENTS] \u001B[91mtomato puree\u001B[0m, \u001B[91mlemon juice\u001B[0m, \u001B[91msalt\u001B[0m, \u001B[91moregano\u001B[0m, \u001B[91mbasil\u001B[0m, \u001B[91mthyme\u001B[0m, \u001B[91mgarlic powder\u001B[0m [STEPS]  \u001B[91mtomato puree\u001B[0m, \u001B[91moregano\u001B[0m[STEPS]in a large bowl, combine the tomatoes, \u001B[91mgarlic powder\u001B[0m, \u001B[91moregano\u001B[0m, \u001B[91mthyme\u001B[0m, \u001B[91mbasil\u001B[0m, \u001B[91msalt\u001B[0m, pepper, and \u001B[91mgarlic powder\u001B[0m, in a small bowl, combine the \u001B[91mtomato puree\u001B[0m, \u001B[91mtomato puree\u001B[0m, and \u001B[91mlemon juice\u001B[0m, pour the \u001B[91mtomato puree\u001B[0m mixture over the tomatoes and toss to coat, cover and refrigerate for at least 1 hour, preheat oven to 350f, in a large skillet, heat the butter over medium-high heat, add the onion and cook, stirring occasionally, until softened, about 5 minutes, add the tomatoes and cook, stirring frequently, until the tomatoes are tender, about 5 minutes more, stir in the \u001B[91moregano\u001B[0m, \u001B[91mbasil\u001B[0m, and \u001B[91mthyme\u001B[0m, season with \u001B[91msalt\u001B[0m and pepper to taste, transfer the tomatoes to a large baking sheet and bake for 15 to 20 minutes, or until the tomatoes are crisp-tender and the sauce is bubbly, serve warm[EOS]\n",
      "\n",
      "Most Similar Real Recipe:\n",
      "[BOS]olive oil, onion, garlic cloves, dried \u001B[91mbasil\u001B[0m, dried \u001B[91moregano\u001B[0m, crushed red pepper flakes, tomato paste, roma tomatoes, dry red wine, sugar, \u001B[91msalt\u001B[0m, fresh ground black pepper[STEPS]in a heavy-bottomed stockpot or dutch oven heat oil over medium-high heat, add in onions , garlic and dried red pepper flakes , \u001B[91mbasil\u001B[0m and \u001B[91moregano\u001B[0m, saute for about 3-4 minutes, add in the tomato paste and stir for 2-3 minutes, add in the roma tomatoes with juice and wine, simmer uncovered over low heat for 1-2 hours stirring occasionally, season with \u001B[91msalt\u001B[0m and pepper and add in sugar if desired[EOS] \n",
      "\n",
      "rouge-l f1: 0.28378377884222067 \n",
      "GPT-2 similarity: 0.9873141646385193 \n",
      "BERT similarity: 0.9604194164276123\n"
     ]
    },
    {
     "name": "stderr",
     "output_type": "stream",
     "text": [
      "\n"
     ]
    }
   ],
   "execution_count": 62
  },
  {
   "metadata": {
    "ExecuteTime": {
     "end_time": "2024-09-17T13:11:57.757720Z",
     "start_time": "2024-09-17T13:11:57.702030Z"
    }
   },
   "cell_type": "code",
   "source": [
    "from sklearn.feature_extraction.text import TfidfVectorizer\n",
    "\n",
    "\n",
    "# Function to extract ingredients from a recipe\n",
    "def extract_ingredients(recipe):\n",
    "    start = recipe.find('[BOS]') + len('[BOS]')\n",
    "    end = recipe.find('[STEPS]')\n",
    "    ingredients = recipe[start:end].strip()\n",
    "    return ingredients\n",
    "\n",
    "\n",
    "# Function to calculate cosine similarity for ingredient lists\n",
    "def calculate_ingredient_similarity(ingredients1, ingredients2):\n",
    "    vectorizer = TfidfVectorizer().fit_transform([ingredients1, ingredients2])\n",
    "    vectors = vectorizer.toarray()\n",
    "    cosine_sim = cosine_similarity(vectors)\n",
    "    return cosine_sim[0, 1]\n",
    "\n",
    "\n",
    "# Function to evaluate generated recipe against a list of real recipes\n",
    "def evaluate_generated_recipe_by_ingredients(generated_recipe, real_recipes, top_k=5):\n",
    "    generated_ingredients = extract_ingredients(generated_recipe)\n",
    "\n",
    "    similarities = []\n",
    "    for real_recipe in tqdm(real_recipes, desc=\"Processing recipes\"):\n",
    "        real_ingredients = extract_ingredients(real_recipe)\n",
    "        similarity = calculate_ingredient_similarity(generated_ingredients, real_ingredients)\n",
    "        similarities.append((real_recipe, similarity))\n",
    "\n",
    "    # Sort recipes based on ingredient similarity\n",
    "    similarities.sort(key=lambda x: x[1], reverse=True)\n",
    "\n",
    "    # Get top k recipes\n",
    "    top_k_recipes = similarities[:top_k]\n",
    "\n",
    "    results = []\n",
    "    for real_recipe, sim in tqdm(top_k_recipes, desc=\"Calculating scores\"):\n",
    "        rouge_score = calculate_rouge_score(generated_recipe, real_recipe)\n",
    "        gpt2_similarity = calculate_gpt2_similarity(generated_recipe, real_recipe, model, tokenizer)\n",
    "        bert_similarity = calculate_bert_similarity(generated_recipe, real_recipe, model_bert, tokenizer_bert)\n",
    "        results.append((real_recipe, sim, rouge_score, gpt2_similarity, bert_similarity))\n",
    "\n",
    "    return results"
   ],
   "id": "802c02028ffee9c6",
   "outputs": [],
   "execution_count": 63
  },
  {
   "metadata": {
    "ExecuteTime": {
     "end_time": "2024-09-17T13:12:00.135335Z",
     "start_time": "2024-09-17T13:11:57.793300Z"
    }
   },
   "cell_type": "code",
   "source": [
    "# Evaluate and print top k recipes\n",
    "top_k = 5\n",
    "top_k_recipes = evaluate_generated_recipe_by_ingredients(generated_recipe, recipe_list, top_k=top_k)\n",
    "\n",
    "for i, (recipe, ingredient_sim, rouge_score, gpt2_sim, bert_sim) in enumerate(top_k_recipes):\n",
    "    print(f\"\\nRecipe {i + 1} (Ingredient Similarity: {ingredient_sim:.2f}):\")\n",
    "    print(print_highlighted(recipe, ingredients))\n",
    "    print(f\"ROUGE-L F1: {rouge_score:.4f}\")\n",
    "    print(f\"GPT-2 Similarity: {gpt2_sim:.4f}\")\n",
    "    print(f\"BERT Similarity: {bert_sim:.4f}\")"
   ],
   "id": "199117df36eb1883",
   "outputs": [
    {
     "name": "stderr",
     "output_type": "stream",
     "text": [
      "Processing recipes: 100%|██████████| 601/601 [00:00<00:00, 1725.71it/s]\n",
      "Calculating scores: 100%|██████████| 5/5 [00:01<00:00,  2.51it/s]"
     ]
    },
    {
     "name": "stdout",
     "output_type": "stream",
     "text": [
      "\n",
      "Recipe 1 (Ingredient Similarity: 0.31):\n",
      "[BOS]paprika, \u001B[91msalt\u001B[0m, lemon pepper, \u001B[91mgarlic powder\u001B[0m, ground pepper, dried \u001B[91mbasil\u001B[0m, onion powder, \u001B[91mthyme\u001B[0m, catfish fillets, un\u001B[91msalt\u001B[0med butter[STEPS]heat a large cast iron skillet or heavy aluminum skillet over high heat for 10 minutes, in a small bowl stir together first 8 ingredients, dip catfish into melted butter and coat both sides of fish with spice mixture , using about 1 t spice mixture for each fillet, place fish on waxed paper, place 3 fillets at a time in hot skillet, drizzle each fillet with 1 t melted butter, cook over high heat about 2 minutes per side or until fish flakes easily, serve immediately[EOS]\n",
      "ROUGE-L F1: 0.2222\n",
      "GPT-2 Similarity: 0.9056\n",
      "BERT Similarity: 0.9481\n",
      "\n",
      "Recipe 2 (Ingredient Similarity: 0.26):\n",
      "[BOS]olive oil, \u001B[91mlemon juice\u001B[0m, \u001B[91msalt\u001B[0m, \u001B[91mthyme\u001B[0m, marjoram, pepper, garlic clove, shallot, parsley, chicken breasts[STEPS]mix all ingredients together and whisk thoroughly, put cleaned and dried meat in a large 8 x 11-inch glass baking pan and pour marinade over all , being sure to coat well, cover with plastic wrap and let marinate in refrigerator for 24 to 48 hours, drain meat and grill , basting with marinade until meat is cooked through[EOS]\n",
      "ROUGE-L F1: 0.2254\n",
      "GPT-2 Similarity: 0.9813\n",
      "BERT Similarity: 0.9270\n",
      "\n",
      "Recipe 3 (Ingredient Similarity: 0.25):\n",
      "[BOS]russet potatoes, garlic, fresh \u001B[91mlemon juice\u001B[0m, \u001B[91msalt\u001B[0m, canola oil[STEPS]peel the potatoes and boil in water until soft, mash and let cool, crush and peel a whole head of garlic, cut into quarters, place raw garlic in a heavy duty blender with the \u001B[91msalt\u001B[0m and \u001B[91mlemon juice\u001B[0m, pour a light layer of oil onto garlic, \"puree the garlic , \u001B[91msalt\u001B[0m \u001B[91mlemon juice\u001B[0m on high and begin pouring a slow steady stream of the rest of the oil through the blenders handle hole until everything has mixed\", at this point , you\\ll have extreme garlickiness , which some people like , but for \"texturizing\" like zankou\\s , you\\ll need the taters, add the mashed potatoes , about 2-3 tablespoons at a time and mix, continue adding / blending potato until the sauce is mixed well, at some point in this process , you might consider changing blending vessels, after all this work , my blender was starting to think twice about helping me out, transfer to a bowl and allow to chill completely in the fridge, \"after about an hour , the flavors will blend together nicely and the texture will take on that library paste consistency like zankous sauce\"[EOS]\n",
      "ROUGE-L F1: 0.1209\n",
      "GPT-2 Similarity: 0.0373\n",
      "BERT Similarity: 0.9280\n",
      "\n",
      "Recipe 4 (Ingredient Similarity: 0.24):\n",
      "[BOS]garlic, onion, italian-style tomatoes, tomato sauce, tomato paste, dried \u001B[91mbasil\u001B[0m, dried \u001B[91moregano\u001B[0m, dry crushed red pepper, \u001B[91msalt\u001B[0m[STEPS]combine all ingredients in a 4-quart slow cooker, cook , covered , on high , 6 hours, serve over spaghetti , chicken , or pork[EOS]\n",
      "ROUGE-L F1: 0.1368\n",
      "GPT-2 Similarity: 0.9952\n",
      "BERT Similarity: 0.8980\n",
      "\n",
      "Recipe 5 (Ingredient Similarity: 0.24):\n",
      "[BOS]lean ground lamb, garlic, dried \u001B[91moregano\u001B[0m, onion powder, \u001B[91msalt\u001B[0m, pepper[STEPS]combine ingredients in a bowl , and shape into 1 / 2 inch thick patties, broil 8-10 minutes until no longer pink, slice thinly and serve with pita bread , sliced tomatoes , thinly sliced onion , cucumber yogurt sauce[EOS]\n",
      "ROUGE-L F1: 0.1613\n",
      "GPT-2 Similarity: 0.8335\n",
      "BERT Similarity: 0.9124\n"
     ]
    },
    {
     "name": "stderr",
     "output_type": "stream",
     "text": [
      "\n"
     ]
    }
   ],
   "execution_count": 64
  }
 ],
 "metadata": {
  "kernelspec": {
   "display_name": "Python 3",
   "language": "python",
   "name": "python3"
  },
  "language_info": {
   "codemirror_mode": {
    "name": "ipython",
    "version": 2
   },
   "file_extension": ".py",
   "mimetype": "text/x-python",
   "name": "python",
   "nbconvert_exporter": "python",
   "pygments_lexer": "ipython2",
   "version": "2.7.6"
  }
 },
 "nbformat": 4,
 "nbformat_minor": 5
}
