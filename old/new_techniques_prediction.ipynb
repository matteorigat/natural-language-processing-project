{
 "cells": [
  {
   "cell_type": "code",
   "id": "initial_id",
   "metadata": {
    "collapsed": true,
    "jupyter": {
     "is_executing": true
    },
    "ExecuteTime": {
     "start_time": "2024-10-01T17:19:17.125103Z"
    }
   },
   "source": [
    "import pandas as pd\n",
    "from sklearn.feature_extraction.text import TfidfVectorizer\n",
    "from sklearn.linear_model import LogisticRegression\n",
    "from sklearn.model_selection import train_test_split\n",
    "from sklearn.metrics import accuracy_score\n",
    "\n",
    "# Carica il dataset\n",
    "df = pd.read_csv('../dataset/RAW_merged.csv')\n",
    "\n",
    "# Preprocessing\n",
    "df['ingredients'] = df['ingredients'].apply(lambda x: ' '.join(eval(x)))  # Trasforma la lista di ingredienti in una stringa\n",
    "df['techniques'] = df['techniques_list'].apply(lambda x: ' '.join(eval(x)))  # Trasforma la lista di tecniche in una stringa\n",
    "\n",
    "# Rappresentazione usando TF-IDF\n",
    "vectorizer = TfidfVectorizer()\n",
    "X = vectorizer.fit_transform(df['ingredients'])\n",
    "y = df['techniques']\n",
    "\n",
    "# Split dei dati\n",
    "X_train, X_test, y_train, y_test = train_test_split(X, y, test_size=0.9, random_state=42)\n",
    "\n",
    "# Addestramento del modello\n",
    "model = LogisticRegression()\n",
    "model.fit(X_train, y_train)\n",
    "\n",
    "# Predizione e valutazione\n",
    "y_pred = model.predict(X_test)\n",
    "print('Accuracy:', accuracy_score(y_test, y_pred))"
   ],
   "outputs": [],
   "execution_count": null
  },
  {
   "metadata": {
    "ExecuteTime": {
     "end_time": "2024-10-01T16:39:22.877160Z",
     "start_time": "2024-10-01T16:37:03.972833Z"
    }
   },
   "cell_type": "code",
   "source": [
    "new_ingredients = ['winter squash', 'mexican seasoning', 'mixed spice', 'honey', 'butter', 'olive oil', 'salt']\n",
    "\n",
    "# Trasforma la lista di ingredienti in una stringa e poi in una rappresentazione TF-IDF\n",
    "new_ingredients_str = ' '.join(new_ingredients)\n",
    "new_ingredients_vec = vectorizer.transform([new_ingredients_str])\n",
    "\n",
    "# Fai la predizione\n",
    "predicted_techniques = model.predict(new_ingredients_vec)\n",
    "\n",
    "print('Metodi di cottura predetti:', predicted_techniques)"
   ],
   "id": "629aef58a0f83b7e",
   "outputs": [
    {
     "name": "stdout",
     "output_type": "stream",
     "text": [
      "Metodi di cottura predetti: ['bake']\n"
     ]
    }
   ],
   "execution_count": 5
  },
  {
   "metadata": {
    "ExecuteTime": {
     "end_time": "2024-10-01T16:39:22.877323Z",
     "start_time": "2024-10-01T16:38:12.961859Z"
    }
   },
   "cell_type": "code",
   "source": [
    "new_ingredients = ['coffee', 'chocolate syrup', 'french vanilla flavored coffee creamer', 'sugar', 'ice cube']\n",
    "\n",
    "# Trasforma la lista di ingredienti in una stringa e poi in una rappresentazione TF-IDF\n",
    "new_ingredients_str = ' '.join(new_ingredients)\n",
    "new_ingredients_vec = vectorizer.transform([new_ingredients_str])\n",
    "\n",
    "# Fai la predizione\n",
    "predicted_techniques = model.predict(new_ingredients_vec)\n",
    "\n",
    "print('Metodi di cottura predetti:', predicted_techniques)"
   ],
   "id": "3bd2e96e639698a5",
   "outputs": [
    {
     "name": "stdout",
     "output_type": "stream",
     "text": [
      "Metodi di cottura predetti: ['bake']\n"
     ]
    }
   ],
   "execution_count": 9
  }
 ],
 "metadata": {
  "kernelspec": {
   "display_name": "Python 3",
   "language": "python",
   "name": "python3"
  },
  "language_info": {
   "codemirror_mode": {
    "name": "ipython",
    "version": 2
   },
   "file_extension": ".py",
   "mimetype": "text/x-python",
   "name": "python",
   "nbconvert_exporter": "python",
   "pygments_lexer": "ipython2",
   "version": "2.7.6"
  }
 },
 "nbformat": 4,
 "nbformat_minor": 5
}
